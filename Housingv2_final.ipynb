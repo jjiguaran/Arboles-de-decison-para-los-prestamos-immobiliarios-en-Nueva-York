{
 "cells": [
  {
   "cell_type": "markdown",
   "metadata": {},
   "source": [
    "# Trabajo practico 1: Clasificiones con Decision Trees y Naive Bayes\n",
    "### Integrantes: Rodrigo Mauriño, Martin Llada, Juan Jose Iguaran"
   ]
  },
  {
   "cell_type": "markdown",
   "metadata": {},
   "source": [
    "La base de datos consiste en informacion sobre creditos para vivivienda en el estado de Nueva York, EE.UU. y el objetivo del ejercicio es lograr entrenar modelos clasificatorios que permitan predecir si el aplicante n, dados los valores de los atributos X, es elegible para el credito.  <br> Para proceder a entrenar los modelos clasificatorios, es necesario alistar el framework mediante la importacion de las librerias necesarias:"
   ]
  },
  {
   "cell_type": "code",
   "execution_count": 1,
   "metadata": {},
   "outputs": [],
   "source": [
    "import os\n",
    "import pandas as pd \n",
    "import numpy as np\n",
    "import sklearn as sk\n",
    "import random\n",
    "from sklearn import model_selection\n",
    "from sklearn import tree\n",
    "import matplotlib.pyplot as plt"
   ]
  },
  {
   "cell_type": "markdown",
   "metadata": {},
   "source": [
    "Una vez importadas las librerias, es necesario importar el dataset a ser utlizado, asi como una pequeña visualizacion del mismo:"
   ]
  },
  {
   "cell_type": "code",
   "execution_count": 2,
   "metadata": {},
   "outputs": [
    {
     "data": {
      "text/html": [
       "<div>\n",
       "<style scoped>\n",
       "    .dataframe tbody tr th:only-of-type {\n",
       "        vertical-align: middle;\n",
       "    }\n",
       "\n",
       "    .dataframe tbody tr th {\n",
       "        vertical-align: top;\n",
       "    }\n",
       "\n",
       "    .dataframe thead th {\n",
       "        text-align: right;\n",
       "    }\n",
       "</style>\n",
       "<table border=\"1\" class=\"dataframe\">\n",
       "  <thead>\n",
       "    <tr style=\"text-align: right;\">\n",
       "      <th></th>\n",
       "      <th>action_taken</th>\n",
       "      <th>agency_code</th>\n",
       "      <th>applicant_ethnicity</th>\n",
       "      <th>applicant_income_000s</th>\n",
       "      <th>applicant_race_1</th>\n",
       "      <th>applicant_sex</th>\n",
       "      <th>application_date_indicator</th>\n",
       "      <th>census_tract_number</th>\n",
       "      <th>co_applicant_ethnicity</th>\n",
       "      <th>co_applicant_race_1</th>\n",
       "      <th>...</th>\n",
       "      <th>property_type</th>\n",
       "      <th>purchaser_type</th>\n",
       "      <th>sequence_number</th>\n",
       "      <th>hud_median_family_income</th>\n",
       "      <th>loan_amount_000s</th>\n",
       "      <th>number_of_1_to_4_family_units</th>\n",
       "      <th>number_of_owner_occupied_units</th>\n",
       "      <th>minority_population</th>\n",
       "      <th>population</th>\n",
       "      <th>tract_to_msamd_income</th>\n",
       "    </tr>\n",
       "  </thead>\n",
       "  <tbody>\n",
       "    <tr>\n",
       "      <th>0</th>\n",
       "      <td>1</td>\n",
       "      <td>9</td>\n",
       "      <td>3</td>\n",
       "      <td>230.0</td>\n",
       "      <td>6</td>\n",
       "      <td>3</td>\n",
       "      <td>0</td>\n",
       "      <td>319.00</td>\n",
       "      <td>5</td>\n",
       "      <td>8</td>\n",
       "      <td>...</td>\n",
       "      <td>1</td>\n",
       "      <td>0</td>\n",
       "      <td>155085</td>\n",
       "      <td>82700.0</td>\n",
       "      <td>159</td>\n",
       "      <td>2414.0</td>\n",
       "      <td>2077.0</td>\n",
       "      <td>14.770000</td>\n",
       "      <td>7442.0</td>\n",
       "      <td>138.440002</td>\n",
       "    </tr>\n",
       "    <tr>\n",
       "      <th>1</th>\n",
       "      <td>1</td>\n",
       "      <td>7</td>\n",
       "      <td>1</td>\n",
       "      <td>66.0</td>\n",
       "      <td>6</td>\n",
       "      <td>1</td>\n",
       "      <td>0</td>\n",
       "      <td>602.02</td>\n",
       "      <td>3</td>\n",
       "      <td>5</td>\n",
       "      <td>...</td>\n",
       "      <td>2</td>\n",
       "      <td>0</td>\n",
       "      <td>37462</td>\n",
       "      <td>95200.0</td>\n",
       "      <td>47</td>\n",
       "      <td>1422.0</td>\n",
       "      <td>1298.0</td>\n",
       "      <td>19.690001</td>\n",
       "      <td>3997.0</td>\n",
       "      <td>85.000000</td>\n",
       "    </tr>\n",
       "    <tr>\n",
       "      <th>3</th>\n",
       "      <td>1</td>\n",
       "      <td>5</td>\n",
       "      <td>2</td>\n",
       "      <td>174.0</td>\n",
       "      <td>5</td>\n",
       "      <td>1</td>\n",
       "      <td>0</td>\n",
       "      <td>502.03</td>\n",
       "      <td>2</td>\n",
       "      <td>5</td>\n",
       "      <td>...</td>\n",
       "      <td>1</td>\n",
       "      <td>0</td>\n",
       "      <td>20</td>\n",
       "      <td>95200.0</td>\n",
       "      <td>40</td>\n",
       "      <td>1723.0</td>\n",
       "      <td>1578.0</td>\n",
       "      <td>17.639999</td>\n",
       "      <td>4971.0</td>\n",
       "      <td>119.169998</td>\n",
       "    </tr>\n",
       "    <tr>\n",
       "      <th>4</th>\n",
       "      <td>1</td>\n",
       "      <td>9</td>\n",
       "      <td>2</td>\n",
       "      <td>100.0</td>\n",
       "      <td>5</td>\n",
       "      <td>2</td>\n",
       "      <td>0</td>\n",
       "      <td>195.00</td>\n",
       "      <td>5</td>\n",
       "      <td>8</td>\n",
       "      <td>...</td>\n",
       "      <td>1</td>\n",
       "      <td>0</td>\n",
       "      <td>12370</td>\n",
       "      <td>71300.0</td>\n",
       "      <td>378</td>\n",
       "      <td>615.0</td>\n",
       "      <td>738.0</td>\n",
       "      <td>60.779999</td>\n",
       "      <td>3366.0</td>\n",
       "      <td>78.169998</td>\n",
       "    </tr>\n",
       "    <tr>\n",
       "      <th>5</th>\n",
       "      <td>1</td>\n",
       "      <td>7</td>\n",
       "      <td>2</td>\n",
       "      <td>155.0</td>\n",
       "      <td>5</td>\n",
       "      <td>1</td>\n",
       "      <td>0</td>\n",
       "      <td>3037.00</td>\n",
       "      <td>2</td>\n",
       "      <td>5</td>\n",
       "      <td>...</td>\n",
       "      <td>1</td>\n",
       "      <td>1</td>\n",
       "      <td>143</td>\n",
       "      <td>109000.0</td>\n",
       "      <td>352</td>\n",
       "      <td>2008.0</td>\n",
       "      <td>2041.0</td>\n",
       "      <td>22.570000</td>\n",
       "      <td>6718.0</td>\n",
       "      <td>87.589996</td>\n",
       "    </tr>\n",
       "  </tbody>\n",
       "</table>\n",
       "<p>5 rows × 30 columns</p>\n",
       "</div>"
      ],
      "text/plain": [
       "   action_taken  agency_code  applicant_ethnicity  applicant_income_000s  \\\n",
       "0             1            9                    3                  230.0   \n",
       "1             1            7                    1                   66.0   \n",
       "3             1            5                    2                  174.0   \n",
       "4             1            9                    2                  100.0   \n",
       "5             1            7                    2                  155.0   \n",
       "\n",
       "   applicant_race_1  applicant_sex  application_date_indicator  \\\n",
       "0                 6              3                           0   \n",
       "1                 6              1                           0   \n",
       "3                 5              1                           0   \n",
       "4                 5              2                           0   \n",
       "5                 5              1                           0   \n",
       "\n",
       "   census_tract_number  co_applicant_ethnicity  co_applicant_race_1  ...  \\\n",
       "0               319.00                       5                    8  ...   \n",
       "1               602.02                       3                    5  ...   \n",
       "3               502.03                       2                    5  ...   \n",
       "4               195.00                       5                    8  ...   \n",
       "5              3037.00                       2                    5  ...   \n",
       "\n",
       "   property_type  purchaser_type sequence_number  hud_median_family_income  \\\n",
       "0              1               0          155085                   82700.0   \n",
       "1              2               0           37462                   95200.0   \n",
       "3              1               0              20                   95200.0   \n",
       "4              1               0           12370                   71300.0   \n",
       "5              1               1             143                  109000.0   \n",
       "\n",
       "   loan_amount_000s  number_of_1_to_4_family_units  \\\n",
       "0               159                         2414.0   \n",
       "1                47                         1422.0   \n",
       "3                40                         1723.0   \n",
       "4               378                          615.0   \n",
       "5               352                         2008.0   \n",
       "\n",
       "   number_of_owner_occupied_units  minority_population  population  \\\n",
       "0                          2077.0            14.770000      7442.0   \n",
       "1                          1298.0            19.690001      3997.0   \n",
       "3                          1578.0            17.639999      4971.0   \n",
       "4                           738.0            60.779999      3366.0   \n",
       "5                          2041.0            22.570000      6718.0   \n",
       "\n",
       "   tract_to_msamd_income  \n",
       "0             138.440002  \n",
       "1              85.000000  \n",
       "3             119.169998  \n",
       "4              78.169998  \n",
       "5              87.589996  \n",
       "\n",
       "[5 rows x 30 columns]"
      ]
     },
     "execution_count": 2,
     "metadata": {},
     "output_type": "execute_result"
    }
   ],
   "source": [
    "data = pd.read_csv(\"baseclean.csv\")\n",
    "dataf=data.copy()\n",
    "dataf=dataf.dropna()\n",
    "dataf.head()"
   ]
  },
  {
   "cell_type": "markdown",
   "metadata": {},
   "source": [
    "Puesto que una delas variables, especificamente, el nombre del condado es un string, se procede a realizar una transformacion en numerica mediante label_encoder y luego reemplazar los valores originales por los obtenidos a partir de la transformacion para poder ejecutar el algoritmo. Asi mismo, es necesario transformar la variable objetivo action_taken en binario para poder luego calcular medidas de desempeño, asi que se procede crear una lista que contiene los indices que resultaron en un credito aprobado, para asignar 1 si la entrada esta dentro de los valores de la lista, o 0 en caso contrario::"
   ]
  },
  {
   "cell_type": "code",
   "execution_count": 3,
   "metadata": {},
   "outputs": [],
   "source": [
    "values = np.array(dataf[\"county_name\"])\n",
    "integer_encoded = sk.preprocessing.LabelEncoder().fit_transform(values)\n",
    "dataf.loc[:,\"county_name\"]=integer_encoded\n",
    "lista = [1,5,6]\n",
    "target_encoded =dataf['action_taken'].isin(lista).astype(int)"
   ]
  },
  {
   "cell_type": "markdown",
   "metadata": {},
   "source": [
    "## 1) Particion de datos\n",
    "Ahora que los datos se encuentran en un formato apto para el modelo, se procede a ejecutar su particion. Esta particion tendra como varible objetivo la decision tomada, y como parametros las demas columnas. Consistira en un 80% de los datos para desarrollo y en un 20% para test:"
   ]
  },
  {
   "cell_type": "code",
   "execution_count": 4,
   "metadata": {},
   "outputs": [],
   "source": [
    "X=dataf.iloc[:,1:]\n",
    "Y=target_encoded\n",
    "dev_x, test_x, dev_y, test_y = model_selection.train_test_split(X,Y,train_size=0.8, test_size=0.2,random_state=123)"
   ]
  },
  {
   "cell_type": "markdown",
   "metadata": {},
   "source": [
    "## 2) Arboles de decision"
   ]
  },
  {
   "cell_type": "markdown",
   "metadata": {},
   "source": [
    "### 2.1) Arbol de altura 3"
   ]
  },
  {
   "cell_type": "markdown",
   "metadata": {},
   "source": [
    "Con el objetivo de realizar una validacion cruzada que permita calcular las medidas de desempeño tanto para los datos de entrenamiento como para los de validacion, se procede a implementar la funcion cross_val_nuevo(x_set, y_set, n_folds, tree, perf) que tomara como entrada el set de datos, el set de datos a predecir, el numero de particiones, un modelo predictivo y el tipo de medida de desempeño. Tendra como salida dos listas, ambas de longitud del numero de particiones, la primera seran los puntajes para los datos de entrenamiento y la segunda seran los puntajes para los datos de validacion:"
   ]
  },
  {
   "cell_type": "code",
   "execution_count": 5,
   "metadata": {},
   "outputs": [],
   "source": [
    "def cross_val_nuevo(x_set, y_set, n_folds, model, perf):\n",
    "    tree = sk.base.clone(model)\n",
    "    index = random.sample(range(x_set.shape[0]), x_set.shape[0])\n",
    "    n = int(x_set.shape[0]/n_folds)\n",
    "    list_x = []\n",
    "    list_y = []\n",
    "    train_score = []\n",
    "    val_score = []\n",
    "    for i in range(n_folds):\n",
    "        fold_x = x_set.iloc[index[n*i:n*(i+1)],].copy()\n",
    "        list_x.append(fold_x)\n",
    "        fold_y = y_set.iloc[index[n*i:n*(i+1)],].copy()\n",
    "        list_y.append(fold_y)\n",
    "    for i in range(n_folds):\n",
    "        val_x = list_x[i].copy()\n",
    "        val_y = list_y[i].copy()\n",
    "        train_x = list_x.copy()\n",
    "        train_y = list_y.copy()\n",
    "        del train_x[i]\n",
    "        del train_y[i]\n",
    "        x = pd.concat(train_x)\n",
    "        y = pd.concat(train_y)\n",
    "        tree.fit(x,y)\n",
    "        pred_train = tree.predict(x)\n",
    "        pred_val = tree.predict(val_x)\n",
    "        if perf == 'acc':\n",
    "            train_score.append(round(sk.metrics.accuracy_score(y,pred_train), 3))\n",
    "            val_score.append(round(sk.metrics.accuracy_score(val_y,pred_val), 3))\n",
    "        elif perf == 'roc':\n",
    "            train_score.append(round(sk.metrics.roc_auc_score(y,pred_train), 3))\n",
    "            val_score.append(round(sk.metrics.roc_auc_score(val_y,pred_val), 3))\n",
    "    return train_score,val_score        "
   ]
  },
  {
   "cell_type": "markdown",
   "metadata": {},
   "source": [
    "Se procede a crear un objeto tipo DecisionTreeClassifier con altura maxima altura 3 manteniendo el resto de los hiperparametros en su valor preestablecido:"
   ]
  },
  {
   "cell_type": "code",
   "execution_count": 6,
   "metadata": {},
   "outputs": [],
   "source": [
    "dtree =sk.tree.DecisionTreeClassifier(max_depth = 3)"
   ]
  },
  {
   "cell_type": "markdown",
   "metadata": {},
   "source": [
    "Una vez creado el objeto, se procede a estimar el desempeño del modelo utilizando 5-fold cross validation a travez de la funcion  cross_val_nuevo utilizando la medida de accuracy:"
   ]
  },
  {
   "cell_type": "code",
   "execution_count": 7,
   "metadata": {},
   "outputs": [
    {
     "data": {
      "text/plain": [
       "([0.79, 0.803, 0.786, 0.799, 0.799], [0.777, 0.793, 0.793, 0.791, 0.791])"
      ]
     },
     "execution_count": 7,
     "metadata": {},
     "output_type": "execute_result"
    }
   ],
   "source": [
    "perf_3tree = cross_val_nuevo(dev_x, dev_y, 5, dtree, 'acc')\n",
    "perf_3tree"
   ]
  },
  {
   "cell_type": "markdown",
   "metadata": {},
   "source": [
    "Se puede apreciar que para el arbol entrenado, la precision se encuentra alrededor del 80% aproximadamentepara los datos de entrenamiento. Asi mismo, se evidencia que para los datos de validacion se tiene una medida parecida de performance. Se procede a estimar el desempño sobre el mismo arbol, pero esta vez utilizando roc_auc:"
   ]
  },
  {
   "cell_type": "code",
   "execution_count": 8,
   "metadata": {},
   "outputs": [
    {
     "data": {
      "text/plain": [
       "([0.79, 0.724, 0.734, 0.741, 0.79], [0.784, 0.727, 0.717, 0.72, 0.784])"
      ]
     },
     "execution_count": 8,
     "metadata": {},
     "output_type": "execute_result"
    }
   ],
   "source": [
    "perf_3tree_roc = cross_val_nuevo(dev_x, dev_y, 5, dtree, 'roc')\n",
    "perf_3tree_roc"
   ]
  },
  {
   "cell_type": "markdown",
   "metadata": {},
   "source": [
    "Los resultados obtenidos utilizando esta medida son parecidos a lo obtenidos utilizando accuracy, aunque se puede apreciar que son levemente inferiores. A continuacion se calcularan las medias y los desvios estandar para todos las medidas de performance, para ello, primero se transformaran las listas en un arreglo de numpy:"
   ]
  },
  {
   "cell_type": "code",
   "execution_count": 9,
   "metadata": {},
   "outputs": [
    {
     "name": "stdout",
     "output_type": "stream",
     "text": [
      "0.795\n",
      "0.006\n",
      "0.789\n",
      "0.006\n",
      "0.756\n",
      "0.028\n",
      "0.746\n",
      "0.031\n"
     ]
    }
   ],
   "source": [
    "train_acc = np.array(perf_3tree[0])\n",
    "val_acc = np.array(perf_3tree[1])\n",
    "train_roc = np.array(perf_3tree_roc[0])\n",
    "val_roc = np.array(perf_3tree_roc[1])\n",
    "print(round(train_acc.mean(),3))\n",
    "print(round(train_acc.std(),3))\n",
    "print(round(val_acc.mean(),3))\n",
    "print(round(val_acc.std(),3))\n",
    "print(round(train_roc.mean(),3))\n",
    "print(round(train_roc.std(),3))\n",
    "print(round(val_roc.mean(),3))\n",
    "print(round(val_roc.std(),3))"
   ]
  },
  {
   "cell_type": "markdown",
   "metadata": {},
   "source": [
    "Se puede apreciar que para ambas medidas, la media es mas alta y la desviacion estandar mas baja para los datos de entrenamiento, lo que es consecuente pues el modelo se comporta mejor para los datos con los que fue entrenado. Por otro lado, tambien se evidencia que la medida de acucracy es significativamente mejor en todos los casos que el roc_auc."
   ]
  },
  {
   "cell_type": "markdown",
   "metadata": {},
   "source": [
    "### 2.2) Arboles de diferentes combinaciones\n"
   ]
  },
  {
   "cell_type": "markdown",
   "metadata": {},
   "source": [
    "Con el objetivo de tener una comparacion de desempeño al variar los hiperparametros, se procede a crear un nuevo arbol de la misma profundidad, pero esta vez utilizando como criterio information gane en lugar de Gini:"
   ]
  },
  {
   "cell_type": "code",
   "execution_count": 10,
   "metadata": {},
   "outputs": [],
   "source": [
    "dtree_ig= sk.tree.DecisionTreeClassifier(criterion = 'entropy',max_depth = 3)"
   ]
  },
  {
   "cell_type": "markdown",
   "metadata": {},
   "source": [
    "Con el nuevo arbol, se calcularan las mismas metricas obtenidas anteriormente:"
   ]
  },
  {
   "cell_type": "code",
   "execution_count": 11,
   "metadata": {},
   "outputs": [
    {
     "name": "stdout",
     "output_type": "stream",
     "text": [
      "([0.804, 0.798, 0.801, 0.778, 0.78], [0.766, 0.793, 0.772, 0.797, 0.79])\n",
      "([0.803, 0.787, 0.804, 0.775, 0.721], [0.714, 0.798, 0.774, 0.803, 0.738])\n"
     ]
    }
   ],
   "source": [
    "acc_results_ig = cross_val_nuevo(dev_x, dev_y, 5, dtree_ig, 'acc')\n",
    "roc_results_ig = cross_val_nuevo(dev_x, dev_y, 5, dtree_ig, 'roc')\n",
    "print(acc_results_ig)\n",
    "print(roc_results_ig)"
   ]
  },
  {
   "cell_type": "markdown",
   "metadata": {},
   "source": [
    "No se evidencia una diferencia significativa entre las medidas obtenidas a partir de la utiliacion de infromation gane. A continuacion se crearan dos arboles utilizando ambos criterios pero esta vez, con una altura de 6:"
   ]
  },
  {
   "cell_type": "code",
   "execution_count": 12,
   "metadata": {},
   "outputs": [],
   "source": [
    "dtree_6_gn= sk.tree.DecisionTreeClassifier(max_depth = 6)\n",
    "dtree_6_ig= sk.tree.DecisionTreeClassifier(criterion = 'entropy',max_depth = 6)"
   ]
  },
  {
   "cell_type": "markdown",
   "metadata": {},
   "source": [
    "Se calcularan ahora las metricas de costumbre, iniciando con el arbol creado utilizando GINI:"
   ]
  },
  {
   "cell_type": "code",
   "execution_count": 13,
   "metadata": {},
   "outputs": [
    {
     "name": "stdout",
     "output_type": "stream",
     "text": [
      "([0.853, 0.854, 0.852, 0.863, 0.85], [0.82, 0.79, 0.799, 0.79, 0.806])\n",
      "([0.845, 0.801, 0.825, 0.832, 0.831], [0.774, 0.748, 0.741, 0.786, 0.786])\n"
     ]
    }
   ],
   "source": [
    "acc_results_6 = cross_val_nuevo(dev_x, dev_y, 5, dtree_6_gn, 'acc')\n",
    "roc_results_6 = cross_val_nuevo(dev_x, dev_y, 5, dtree_6_gn, 'roc')\n",
    "print(acc_results_6)\n",
    "print(roc_results_6)"
   ]
  },
  {
   "cell_type": "markdown",
   "metadata": {},
   "source": [
    "Es apreciable la mejora en el desempeño para todas las metricas estudiadas, por lo que es concluible que un arbol de profundidad 6 se ajusta mejor al dataset en cuestion. Ahora se calcularan las mismas metricas para el arbol entrenado a partir de information gane:"
   ]
  },
  {
   "cell_type": "code",
   "execution_count": 14,
   "metadata": {},
   "outputs": [
    {
     "name": "stdout",
     "output_type": "stream",
     "text": [
      "([0.853, 0.848, 0.846, 0.848, 0.857], [0.8, 0.802, 0.826, 0.853, 0.799])\n",
      "([0.832, 0.841, 0.835, 0.841, 0.802], [0.787, 0.768, 0.792, 0.824, 0.75])\n"
     ]
    }
   ],
   "source": [
    "acc_results_6_ig = cross_val_nuevo(dev_x, dev_y, 5, dtree_6_ig, 'acc')\n",
    "roc_results_6_ig = cross_val_nuevo(dev_x, dev_y, 5, dtree_6_ig, 'roc')\n",
    "print(acc_results_6_ig)\n",
    "print(roc_results_6_ig)"
   ]
  },
  {
   "cell_type": "markdown",
   "metadata": {},
   "source": [
    "Se puede evidenciar como las metricas son bastante similares a las observadas con la utilizacion de GINI, sin embargo, aunque algunas tuvieron mejor desempeño, puede decirse que hay una leve mejoria con GINI. Ahora se creara un arbol sin ninguna especificacion de altura maxima para ambos criterios:"
   ]
  },
  {
   "cell_type": "code",
   "execution_count": 15,
   "metadata": {},
   "outputs": [],
   "source": [
    "dtree_max_gn= sk.tree.DecisionTreeClassifier()\n",
    "dtree_max_ig= sk.tree.DecisionTreeClassifier(criterion = 'entropy')"
   ]
  },
  {
   "cell_type": "markdown",
   "metadata": {},
   "source": [
    "De la misma manera que para el arbol anterior, se calcularan las metricas de costumbre utilizando GINI:"
   ]
  },
  {
   "cell_type": "code",
   "execution_count": 16,
   "metadata": {},
   "outputs": [
    {
     "name": "stdout",
     "output_type": "stream",
     "text": [
      "([1.0, 1.0, 1.0, 1.0, 1.0], [0.777, 0.784, 0.779, 0.786, 0.757])\n",
      "([1.0, 1.0, 1.0, 1.0, 1.0], [0.733, 0.721, 0.768, 0.719, 0.753])\n"
     ]
    }
   ],
   "source": [
    "acc_results_max = cross_val_nuevo(dev_x, dev_y, 5, dtree_max_gn, 'acc')\n",
    "roc_results_max = cross_val_nuevo(dev_x, dev_y, 5, dtree_max_gn, 'roc')\n",
    "print(acc_results_max)\n",
    "print(roc_results_max)"
   ]
  },
  {
   "cell_type": "markdown",
   "metadata": {},
   "source": [
    "Resalta el hecho de que al no especificar la profundidad, el modelo incurre en overfitting, pues predeice de manera exacta para los datos de entrenamiento enn ambas medidas, sin embargo, los puntajes para los datos de validacion son menores que los obtenidos para los arboles anteriores, por lo que pierde capacidad de prediccion."
   ]
  },
  {
   "cell_type": "markdown",
   "metadata": {},
   "source": [
    "## 2.3) Tratamiento de datos faltantes"
   ]
  },
  {
   "cell_type": "markdown",
   "metadata": {},
   "source": [
    "Para evaluar la influencia de la cantidad de datos faltantes en un data set, y la estrategia de relleno que se implemente, a continuacion se implementa la funcion outliers(data,clase, index, por, rell), que recibira el set de datos asi como la variable a predecir, el indice del atributo a modificar, un porcentaje de datos faltantes y una estrategia de de relleno que podra ser moda o clase modal, y devolvera como salida un nuevo data frame que tendra el porcentaje de datos faltantes rellenados con la estrategia de relleno:"
   ]
  },
  {
   "cell_type": "code",
   "execution_count": 17,
   "metadata": {},
   "outputs": [],
   "source": [
    "def outliers(data,clase,index, por, rell):\n",
    "    new = data.copy()\n",
    "    n = int(new.shape[0]*(por/100))\n",
    "    rand = random.sample(range(new.shape[0]), n) \n",
    "    for i in rand:\n",
    "        new.iloc[i,index] = np.nan\n",
    "    if rell == 'mode':\n",
    "        mode = int(new.iloc[:,index].mode())\n",
    "        for i in rand:\n",
    "            new.iloc[i,index] = mode\n",
    "    elif rell == 'class_mode':\n",
    "        feat = new.iloc[:,index]\n",
    "        for i in rand:\n",
    "            mode = int(feat[clase == clase.iloc[i]].mode())\n",
    "            new.iloc[i,index] = mode\n",
    "    return new"
   ]
  },
  {
   "cell_type": "markdown",
   "metadata": {},
   "source": [
    "Para las siguientes evaluaciones se utilizara el 80% de los datos de desarrollo, pues el otro 20% sera empleado en validacion:"
   ]
  },
  {
   "cell_type": "code",
   "execution_count": 18,
   "metadata": {},
   "outputs": [],
   "source": [
    "des_x, val_x, des_y, val_y = model_selection.train_test_split(dev_x,dev_y,train_size=0.8, test_size=0.2,random_state=123)"
   ]
  },
  {
   "cell_type": "markdown",
   "metadata": {},
   "source": [
    "Con lo observado anteriormente a partir de las metricas, se puede concluir que de los arboles previamente evaluados, aquel que tuvo mejor desempeño fue el construido a partir de GINI con una profundidad maxima de 6, por lo que para los siguientes analisis se utilizara dicha configuracion. Para evaluar la influencia de los datos faltantes, el proceso sera mas notorio si estos datos faltan en el atrbuto mas relevante, por lo que a continuacion se creara y entrenara un arbol con las caracteristicas previamente mencionadas para obtener el indice de dicho atributo:"
   ]
  },
  {
   "cell_type": "code",
   "execution_count": 19,
   "metadata": {},
   "outputs": [
    {
     "name": "stdout",
     "output_type": "stream",
     "text": [
      "20\n"
     ]
    }
   ],
   "source": [
    "opt_tree= sk.tree.DecisionTreeClassifier(max_depth = 6)\n",
    "opt_tree.fit(des_x,des_y)\n",
    "importance = opt_tree.feature_importances_\n",
    "index = np.argmax(importance)\n",
    "print(index)"
   ]
  },
  {
   "cell_type": "markdown",
   "metadata": {},
   "source": [
    "### 2.3 a) Ejecucion en distintos datasets"
   ]
  },
  {
   "cell_type": "markdown",
   "metadata": {},
   "source": [
    "Conociendo cual es el indice del atributo mas importante se procedera a generar una lista de datasets con diferentes cantidades de datos faltantes, desde 0 a 80% variando en intervalos de 5%, tanto para el metodo de modas como para el de modas de clase, para evaluar el desempeño de arboles entrenados con cada uno de estos datasets:"
   ]
  },
  {
   "cell_type": "code",
   "execution_count": 20,
   "metadata": {},
   "outputs": [],
   "source": [
    "list_mode = []\n",
    "list_class_mode = []\n",
    "list_mode.append(des_x.copy())\n",
    "list_class_mode.append(des_x.copy())\n",
    "for i in range(5,85,5):\n",
    "    list_mode.append(outliers(des_x,des_y,index, i, 'mode'))    \n",
    "    list_class_mode.append(outliers(des_x,des_y,index, i, 'class_mode'))"
   ]
  },
  {
   "cell_type": "markdown",
   "metadata": {},
   "source": [
    "Una vez creados los datasets, se procede a entrenar modelos con ellos para calcular el tamaño y el performance de cada uno para poder compararlos segun estas medidas:"
   ]
  },
  {
   "cell_type": "code",
   "execution_count": 21,
   "metadata": {},
   "outputs": [],
   "source": [
    "tree_size_mode = []\n",
    "acc_mode = []\n",
    "tree_size_class_mode = []\n",
    "acc_class_mode =[]\n",
    "for i in range(len(list_mode)):\n",
    "    tree_mode = sk.tree.DecisionTreeClassifier(max_depth = 6)\n",
    "    tree_mode.fit(list_mode[i],des_y)\n",
    "    tree_size_mode.append(tree_mode.tree_.node_count)\n",
    "    pred_mode = tree_mode.predict(val_x)\n",
    "    acc_mode.append(sk.metrics.accuracy_score(val_y,pred_mode))\n",
    "    tree_class_mode = sk.tree.DecisionTreeClassifier(max_depth = 6)\n",
    "    tree_class_mode.fit(list_class_mode[i],des_y)\n",
    "    tree_size_class_mode.append(tree_class_mode.tree_.node_count)\n",
    "    pred_class_mode = tree_class_mode.predict(val_x)\n",
    "    acc_class_mode.append(sk.metrics.accuracy_score(val_y,pred_class_mode)) "
   ]
  },
  {
   "cell_type": "markdown",
   "metadata": {},
   "source": [
    "### 2.3 b) Tamaño del arbol vs porcentaje de faltantes"
   ]
  },
  {
   "cell_type": "markdown",
   "metadata": {},
   "source": [
    "A continuacion se realizan las graficas del tamaño del arbol en funcion del porcentaje de faltantes tanto para los reemplazados por modo, como por clase modal, para poder pareciar el comportamiento:"
   ]
  },
  {
   "cell_type": "code",
   "execution_count": 28,
   "metadata": {},
   "outputs": [
    {
     "data": {
      "image/png": "[encoded data removed]",
      "text/plain": [
       "<Figure size 720x432 with 1 Axes>"
      ]
     },
     "metadata": {
      "needs_background": "light"
     },
     "output_type": "display_data"
    }
   ],
   "source": [
    "plt.figure(figsize=(10,6))\n",
    "plt.plot(list(range(0,85,5)), tree_size_mode)\n",
    "plt.title('Tamaño del arbol vs porcentaje de faltantes remplazados por moda')\n",
    "plt.ylabel('Tamaño del arbol')\n",
    "plt.xlabel('Porcentaje de faltantes')\n",
    "plt.show()"
   ]
  },
  {
   "cell_type": "code",
   "execution_count": 29,
   "metadata": {},
   "outputs": [
    {
     "data": {
      "image/png": "[encoded data removed]",
      "text/plain": [
       "<Figure size 720x432 with 1 Axes>"
      ]
     },
     "metadata": {
      "needs_background": "light"
     },
     "output_type": "display_data"
    }
   ],
   "source": [
    "plt.figure(figsize=(10,6))\n",
    "plt.plot(list(range(0,85,5)), tree_size_class_mode)\n",
    "plt.title('Tamaño del arbol vs porcentaje de faltantes remplazados por clase modal')\n",
    "plt.ylabel('Tamaño del arbol')\n",
    "plt.xlabel('Porcentaje de faltantes')\n",
    "plt.show()"
   ]
  },
  {
   "cell_type": "markdown",
   "metadata": {},
   "source": [
    "Aun cuando existen leves diferencias entre las graficas, se puede concluir que obedecen a la misma tendencia: a mayor porcentaje de faltantes disminuye el tamaño del arbol. Por otro lado, se aprecia que los sets cuyos faltantes fueron reemplazados por modas presentan tamaños levemente mayores que los relleneados por clases modales"
   ]
  },
  {
   "cell_type": "markdown",
   "metadata": {},
   "source": [
    "### 2.3 c) Performance vs porcentaje de faltantes"
   ]
  },
  {
   "cell_type": "markdown",
   "metadata": {},
   "source": [
    "De igual manera, se realizan las graficas del performance en funcion del porcentaje de faltantes tanto para los reemplazados por modo, como por clase modal, para poder pareciar el comportamiento:"
   ]
  },
  {
   "cell_type": "code",
   "execution_count": 31,
   "metadata": {},
   "outputs": [
    {
     "data": {
      "image/png": "[encoded data removed]",
      "text/plain": [
       "<Figure size 720x432 with 1 Axes>"
      ]
     },
     "metadata": {
      "needs_background": "light"
     },
     "output_type": "display_data"
    }
   ],
   "source": [
    "plt.figure(figsize=(10,6))\n",
    "plt.plot(list(range(0,85,5)), acc_mode)\n",
    "plt.title('Performance vs porcentaje de faltantes remplazados por moda')\n",
    "plt.ylabel('Performance')\n",
    "plt.xlabel('Porcentaje de faltantes')\n",
    "plt.show()"
   ]
  },
  {
   "cell_type": "code",
   "execution_count": 33,
   "metadata": {},
   "outputs": [
    {
     "data": {
      "image/png": "[encoded data removed]",
      "text/plain": [
       "<Figure size 720x432 with 1 Axes>"
      ]
     },
     "metadata": {
      "needs_background": "light"
     },
     "output_type": "display_data"
    }
   ],
   "source": [
    "plt.figure(figsize=(10,6))\n",
    "plt.plot(list(range(0,85,5)), acc_class_mode)\n",
    "plt.title('Performance vs porcentaje de faltantes remplazados por clase modal')\n",
    "plt.ylabel('Performance')\n",
    "plt.xlabel('Porcentaje de faltantes')\n",
    "plt.show()"
   ]
  },
  {
   "cell_type": "markdown",
   "metadata": {},
   "source": [
    "Al igual que con el tamaño del arbol,aun cuando existen leves diferencias entre las graficas, se puede concluir que obedecen a la misma tendencia: a mayor porcentaje de faltantes disminuye el performance. Por otro lado, se aprecia que los sets cuyos faltantes fueron reemplazados por clase modal, presentan medidas de performance ligeramente moayores a aquellos que fueron reemplazados por moda."
   ]
  },
  {
   "cell_type": "markdown",
   "metadata": {},
   "source": [
    "###  2.3 d) Analisis"
   ]
  },
  {
   "cell_type": "markdown",
   "metadata": {},
   "source": [
    "Los comportamientos de las graficas anteriores apuntan en la misma direccion: el arbol disminuye su capacidad para generar caminos exitosos con el incremento de ruido y por consiguiente su capacidad predecir. Es interesante que los arboles generados a partir de los datasets cuyos faltantes fueron reemplazados por medias, tienen mayor tamaño, sin embargo, el performance es menor que en aquellos datasets cuyos faltantes fueron reeemplazados por clase_modal; esto obedece al hecho que tener varias entradas, cuyos valores objetivos pueden ser diferentes, con el mismo valor para el atributo mas relevante, generara mas caminos posibles. Sin embargo, estos caminos no son capaces de predecir acertadamente pues al ser este el atributo mas relevante, sera incorrectamente inclasificado segun el valor que este posea. Es por esto que los arboles generados a partir de los datasets cuyos faltantes fueron reemplzados por clase modal, a pesar de tener un menor tamaño presentan un mejor performance, pues al ser este el atributo mas relevante, es bastante probable que su valor este fuertemente coorelacionado con la clase a predecir, asi que asignarle la moda de clase, generara menos arboles incongruentes y esto a su vez, mejores prediccciones aumentando el performance."
   ]
  },
  {
   "cell_type": "markdown",
   "metadata": {},
   "source": [
    "## 4) Tolerancia al ruido.\n",
    "Para implemetar este inciso se utilizó la partición de datos realizada en la seccion 1.1.1."
   ]
  },
  {
   "cell_type": "markdown",
   "metadata": {},
   "source": [
    "## 4.1) Familia de datasets"
   ]
  },
  {
   "cell_type": "code",
   "execution_count": 61,
   "metadata": {},
   "outputs": [],
   "source": [
    "import random \n",
    "\n",
    "#dev_x\n",
    "#test_x\n",
    "#train_X\n",
    "#val_X\n",
    "train_X_ruido=train_X.copy()"
   ]
  },
  {
   "cell_type": "code",
   "execution_count": 62,
   "metadata": {},
   "outputs": [],
   "source": [
    "def ind_ruido(dataset,porcentaje):\n",
    "    for i in range(0,int(len(dataset)*porcentaje)):\n",
    "        newdataset = dataset.copy()\n",
    "        a=random.randrange(0, int(len(dataset)*porcentaje))\n",
    "        #b=random.randrange(0, b_ruido.shape[1])\n",
    "        #noise = np.random.normal(0,5,1)\n",
    "        noise = np.random.normal(dataset.iloc[:,21].mean(),dataset.iloc[:,21].mean()+100000,1)\n",
    "        valor=(dataset.iloc[a,21])+noise\n",
    "        #newdataset[\"purchaser_type\"][a]=valor\n",
    "        newdataset.iloc[a,21]=valor\n",
    "    #mean=newdataset.iloc[:,21].mean()    \n",
    "    #return newdataset,mean \n",
    "    return newdataset"
   ]
  },
  {
   "cell_type": "code",
   "execution_count": 68,
   "metadata": {},
   "outputs": [
    {
     "name": "stdout",
     "output_type": "stream",
     "text": [
      "109356.95820224719\n",
      "221371.78554289247\n",
      "[-20381.88135726]\n",
      "109420.30706786698\n",
      "221361.47643331048\n",
      "109355.73621584859\n",
      "221370.6537980745\n"
     ]
    }
   ],
   "source": [
    "#0.15,0.2,0.25,0.3,0.35\n",
    "print(train_X_ruido.iloc[:,21].mean())\n",
    "print(train_X_ruido.iloc[:,21].std())\n",
    "noise = np.random.normal(train_X_ruido.iloc[:,21].mean(),train_X_ruido.iloc[:,21].mean()+100000,1)\n",
    "print(noise)\n",
    "print(lista[1].iloc[:,21].mean())\n",
    "print(lista[1].iloc[:,21].std())\n",
    "print(lista[2].iloc[:,21].mean())\n",
    "print(lista[2].iloc[:,21].std())"
   ]
  },
  {
   "cell_type": "code",
   "execution_count": 63,
   "metadata": {},
   "outputs": [],
   "source": [
    "rango=[0.05,0.25,0.1,0.15,0.2,0.25,0.3,0.35]\n",
    "lista= []\n",
    "#media=[]\n",
    "for z in rango:\n",
    "    #a,b = ind_ruido(train_X_ruido,z)\n",
    "    a = ind_ruido(train_X_ruido,z)\n",
    "    lista.append(a)\n",
    "    #media.append(b)\n",
    "    "
   ]
  },
  {
   "cell_type": "markdown",
   "metadata": {},
   "source": [
    " ## 4.2) Arboles de decisión"
   ]
  },
  {
   "cell_type": "markdown",
   "metadata": {},
   "source": [
    "### 4.2.1) Arbol de altura 3\n",
    "Se procede a crear un objeto tipo DecisionTreeClassifier con altura maxima altura 3 manteniendo el resto de los hiperparametros en su valor preestablecido, para luego entrenar dicho objeto con las particiones previamente definidas:"
   ]
  },
  {
   "cell_type": "code",
   "execution_count": 64,
   "metadata": {},
   "outputs": [],
   "source": [
    "tree=[]\n",
    "for dt in lista:\n",
    "    dtree= sk.tree.DecisionTreeClassifier(max_depth = 3)\n",
    "    q=dtree.fit(dt, train_y)\n",
    "    tree.append(q)\n",
    "  "
   ]
  },
  {
   "cell_type": "markdown",
   "metadata": {},
   "source": [
    "Una vez entrenado el modelo, se procede a estimar el desempeño del modelo utilizando 5-fold cross validation:"
   ]
  },
  {
   "cell_type": "code",
   "execution_count": 65,
   "metadata": {},
   "outputs": [
    {
     "name": "stdout",
     "output_type": "stream",
     "text": [
      "0.7811338269291612\n",
      "0.7811338269291612\n",
      "0.7811338269291612\n",
      "0.7811338269291612\n",
      "0.7811338269291612\n",
      "0.7811338269291612\n",
      "0.7811338269291612\n",
      "0.7811338269291612\n"
     ]
    }
   ],
   "source": [
    "acc_train=[]\n",
    "for ac in range(0,len(tree)):\n",
    "    acc_results_train = model_selection.cross_val_score(tree[ac], lista[ac], train_y, cv=5, scoring='accuracy')\n",
    "    acc_train.append(acc_results_train)\n",
    "    print(acc_train[ac].mean())  "
   ]
  },
  {
   "cell_type": "markdown",
   "metadata": {},
   "source": [
    "Se puede apreciar que para el arbol entrenado, la precision se encuentra alrededor del 78% aproximadamente, lo que evidencia cierta tolerancia al ruido por parte de este algortimo supervizado. A continuacion se procede a calcular el ROC AUC para el conjunto de entrenamiento:"
   ]
  },
  {
   "cell_type": "code",
   "execution_count": 69,
   "metadata": {},
   "outputs": [
    {
     "name": "stdout",
     "output_type": "stream",
     "text": [
      "0.8634270511131478\n",
      "0.8634270511131478\n",
      "0.8634270511131478\n",
      "0.8634270511131478\n",
      "0.8634270511131478\n",
      "0.8634270511131478\n",
      "0.8634270511131478\n",
      "0.8634270511131478\n"
     ]
    }
   ],
   "source": [
    "roc_train=[]\n",
    "for roc in range(0,len(tree)):\n",
    "    roc_results_train = model_selection.cross_val_score(tree[roc], lista[roc], train_y, cv=5, scoring='roc_auc')\n",
    "    roc_train.append(roc_results_train)\n",
    "    print(roc_train[roc].mean())"
   ]
  },
  {
   "cell_type": "markdown",
   "metadata": {},
   "source": [
    "Los puntajes obtenidos utilizando roc_auc son superiores a los obtenidos por precision pues se encuentran alrededor del 86%. A su vez, se puede observar que dicho nivel de precision es similar al obtenido a partir de un dataset sin presencia de ruido. A continuacion se calcularan las mismas medidas de desempeño utilizando los datos de validacion:"
   ]
  },
  {
   "cell_type": "code",
   "execution_count": 70,
   "metadata": {},
   "outputs": [
    {
     "name": "stdout",
     "output_type": "stream",
     "text": [
      "0.7557672282672283\n",
      "0.8449849206349207\n",
      "0.7557672282672283\n",
      "0.8449849206349207\n",
      "0.7557672282672283\n",
      "0.8449849206349207\n",
      "0.7557672282672283\n",
      "0.8449849206349207\n",
      "0.7557672282672283\n",
      "0.8449849206349207\n",
      "0.7557672282672283\n",
      "0.8449849206349207\n",
      "0.7557672282672283\n",
      "0.8449849206349207\n",
      "0.7557672282672283\n",
      "0.8449849206349207\n"
     ]
    }
   ],
   "source": [
    "acc_val=[]\n",
    "roc_val=[]\n",
    "for az in range(0,len(tree)):\n",
    "    acc_results_val = model_selection.cross_val_score(tree[az], val_X, val_y, cv=5, scoring='accuracy')\n",
    "    acc_val.append(acc_results_val)\n",
    "    roc_results_val = model_selection.cross_val_score(tree[az], val_X, val_y, cv=5, scoring='roc_auc')\n",
    "    roc_val.append(roc_results_val)\n",
    "    print(acc_val[az].mean())\n",
    "    print(roc_val[az].mean())"
   ]
  },
  {
   "cell_type": "markdown",
   "metadata": {},
   "source": [
    "A partir de estos resultados, se puede apreciar que los valores para amba medidas son muy parecidas a aquellas obtenidas con el set de entrenamiento, por lo que puede concluirse que no se incurrio en overfitting. Se procede a calcular la media y la desviacion estandar de los distintos folds para la precision, tanto para los datos de validacion, como para los de entrenamiento:"
   ]
  },
  {
   "cell_type": "code",
   "execution_count": 45,
   "metadata": {},
   "outputs": [
    {
     "name": "stdout",
     "output_type": "stream",
     "text": [
      "0.7811338269291612\n",
      "0.011734489995451241\n",
      "0.7557672282672283\n",
      "0.02285568790785331\n",
      "0.7811338269291612\n",
      "0.011734489995451241\n",
      "0.7557672282672283\n",
      "0.02285568790785331\n",
      "0.7811338269291612\n",
      "0.011734489995451241\n",
      "0.7557672282672283\n",
      "0.02285568790785331\n",
      "0.7811338269291612\n",
      "0.011734489995451241\n",
      "0.7557672282672283\n",
      "0.02285568790785331\n",
      "0.7811338269291612\n",
      "0.011734489995451241\n",
      "0.7557672282672283\n",
      "0.02285568790785331\n",
      "0.7811338269291612\n",
      "0.011734489995451241\n",
      "0.7557672282672283\n",
      "0.02285568790785331\n",
      "0.7811338269291612\n",
      "0.011734489995451241\n",
      "0.7557672282672283\n",
      "0.02285568790785331\n",
      "0.7811338269291612\n",
      "0.011734489995451241\n",
      "0.7557672282672283\n",
      "0.02285568790785331\n"
     ]
    }
   ],
   "source": [
    "for i in range(0,len(tree)):\n",
    "    print(acc_train[i].mean())\n",
    "    print(acc_train[i].std())\n",
    "    print(acc_val[i].mean())\n",
    "    print(acc_val[i].std())"
   ]
  },
  {
   "cell_type": "markdown",
   "metadata": {},
   "source": [
    "A partir de analizar la media y la desviacion estandar de los distintos folds para la precision, tanto para los datos de validacion, como para los de entrenamiento, se desprende que las medidas de entrenamiento poseen una mayor media y una menor desviacion estandar respecto de las medidas de validacion. Este resultado parece logico teniendo en cuenta que el conjunto de validacion no se ha utilziado para entrenar el algoritmo. Ahora se realizaran las mismas metricas con los datos obtenidos para ROC AUC:"
   ]
  },
  {
   "cell_type": "code",
   "execution_count": 46,
   "metadata": {},
   "outputs": [
    {
     "name": "stdout",
     "output_type": "stream",
     "text": [
      "0.8634270511131478\n",
      "0.015167646872192912\n",
      "0.8449849206349207\n",
      "0.02912565261173542\n",
      "0.8634270511131478\n",
      "0.015167646872192912\n",
      "0.8449849206349207\n",
      "0.02912565261173542\n",
      "0.8634270511131478\n",
      "0.015167646872192912\n",
      "0.8449849206349207\n",
      "0.02912565261173542\n",
      "0.8634270511131478\n",
      "0.015167646872192912\n",
      "0.8449849206349207\n",
      "0.02912565261173542\n",
      "0.8634270511131478\n",
      "0.015167646872192912\n",
      "0.8449849206349207\n",
      "0.02912565261173542\n",
      "0.8634270511131478\n",
      "0.015167646872192912\n",
      "0.8449849206349207\n",
      "0.02912565261173542\n",
      "0.8634270511131478\n",
      "0.015167646872192912\n",
      "0.8449849206349207\n",
      "0.02912565261173542\n",
      "0.8634270511131478\n",
      "0.015167646872192912\n",
      "0.8449849206349207\n",
      "0.02912565261173542\n"
     ]
    }
   ],
   "source": [
    "for i in range(0,len(tree)):\n",
    "    print(roc_train[i].mean())\n",
    "    print(roc_train[i].std())\n",
    "    print(roc_val[i].mean())\n",
    "    print(roc_val[i].std())"
   ]
  },
  {
   "cell_type": "markdown",
   "metadata": {},
   "source": [
    "A partir de este ultimo ejercicio, se observa el mismo patron que el observado en el caso de la precision: mayor media y menor desvio se aprencian en el cojunto de entrenamiento; comportamiento que obedece a lo anteriormente explicado."
   ]
  },
  {
   "cell_type": "markdown",
   "metadata": {},
   "source": [
    "### 4.2.2) Arboles de diferentes combinaciones\n",
    "Con el objetivo de tener una comparacion de desempeño al variar los hiperparametros, se procede a entrenar un nuevo arbol de la misma profundidad, pero esta vez utilizando como criterio information gain en lugar de Gini, para cada uno de los dataset con ruido:"
   ]
  },
  {
   "cell_type": "code",
   "execution_count": 71,
   "metadata": {},
   "outputs": [],
   "source": [
    "tree_ig=[]\n",
    "for dt in lista:\n",
    "    dtree= sk.tree.DecisionTreeClassifier(criterion = 'entropy',max_depth = 3)\n",
    "    q=dtree.fit(dt, train_y)\n",
    "    tree_ig.append(q)"
   ]
  },
  {
   "cell_type": "markdown",
   "metadata": {},
   "source": [
    "Con el nuevo arbol, se calcularan las mismas metricas obtenidas anteriormente:"
   ]
  },
  {
   "cell_type": "code",
   "execution_count": 72,
   "metadata": {},
   "outputs": [
    {
     "name": "stdout",
     "output_type": "stream",
     "text": [
      "0.7707734665688009\n",
      "0.7707734665688009\n",
      "0.7707734665688009\n",
      "0.7707734665688009\n",
      "0.7707734665688009\n",
      "0.7707734665688009\n",
      "0.7707734665688009\n",
      "0.7707734665688009\n",
      "0.8616238103724069\n",
      "0.8616238103724069\n",
      "0.8616238103724069\n",
      "0.8616238103724069\n",
      "0.8616238103724069\n",
      "0.8616238103724069\n",
      "0.8616238103724069\n",
      "0.8616238103724069\n",
      "0.7575529425529426\n",
      "0.8397948621553886\n",
      "0.7575529425529426\n",
      "0.8397948621553886\n",
      "0.7575529425529426\n",
      "0.8397948621553886\n",
      "0.7575529425529426\n",
      "0.8397948621553886\n",
      "0.7575529425529426\n",
      "0.8397948621553886\n",
      "0.7575529425529426\n",
      "0.8397948621553886\n",
      "0.7575529425529426\n",
      "0.8397948621553886\n",
      "0.7575529425529426\n",
      "0.8397948621553886\n"
     ]
    }
   ],
   "source": [
    "acc_train_ig=[]\n",
    "for ac in range(0,len(tree_ig)):\n",
    "    acc_results_train_ig = model_selection.cross_val_score(tree_ig[ac], lista[ac], train_y, cv=5, scoring='accuracy')\n",
    "    acc_train_ig.append(acc_results_train_ig)\n",
    "    print(acc_train_ig[ac].mean()) \n",
    "\n",
    "roc_train_ig=[]\n",
    "for ac in range(0,len(tree_ig)):\n",
    "    roc_results_train_ig = model_selection.cross_val_score(tree_ig[ac], lista[ac], train_y, cv=5, scoring='roc_auc')\n",
    "    roc_train_ig.append(roc_results_train_ig)\n",
    "    print(roc_train_ig[ac].mean()) \n",
    "\n",
    "acc_val_ig=[]\n",
    "roc_val_ig=[]\n",
    "for az in range(0,len(tree_ig)):\n",
    "    acc_results_val_ig = model_selection.cross_val_score(tree_ig[az], val_X, val_y, cv=5, scoring='accuracy')\n",
    "    acc_val_ig.append(acc_results_val_ig)\n",
    "    roc_results_val_ig = model_selection.cross_val_score(tree_ig[az], val_X, val_y, cv=5, scoring='roc_auc')\n",
    "    roc_val_ig.append(roc_results_val_ig)\n",
    "    print(acc_val_ig[az].mean())\n",
    "    print(roc_val_ig[az].mean())\n",
    "    "
   ]
  },
  {
   "cell_type": "code",
   "execution_count": 49,
   "metadata": {},
   "outputs": [
    {
     "name": "stdout",
     "output_type": "stream",
     "text": [
      "[0.76233184 0.79147982 0.7752809  0.74774775 0.77702703]\n",
      "[0.84161989 0.87178371 0.85619694 0.85479167 0.88372685]\n",
      "[0.78571429 0.75       0.76785714 0.73873874 0.74545455]\n",
      "[0.84502924 0.87737573 0.84539474 0.82888889 0.80228571]\n"
     ]
    }
   ],
   "source": [
    "print(acc_results_train_ig)\n",
    "print(roc_results_train_ig)\n",
    "print(acc_results_val_ig)\n",
    "print(roc_results_val_ig)"
   ]
  },
  {
   "cell_type": "markdown",
   "metadata": {},
   "source": [
    "Se puede apreciar los valores de ROC AUC son muy parecidos a los obtenidos utilizando GINI como criterio. A continuacion se entrenaran dos arboles utilizando ambos criterios pero esta vez, con una altura de 6:"
   ]
  },
  {
   "cell_type": "code",
   "execution_count": 74,
   "metadata": {},
   "outputs": [],
   "source": [
    "tree_6_gn=[]\n",
    "for dt in lista:\n",
    "    dtree= sk.tree.DecisionTreeClassifier(max_depth = 6)\n",
    "    q=dtree.fit(dt, train_y)\n",
    "    tree_6_gn.append(q)\n",
    "    \n",
    "tree_6_ig=[]\n",
    "for dt in lista:\n",
    "    dtree= sk.tree.DecisionTreeClassifier(criterion = 'entropy',max_depth = 6)\n",
    "    q=dtree.fit(dt, train_y)\n",
    "    tree_6_ig.append(q)    "
   ]
  },
  {
   "cell_type": "markdown",
   "metadata": {},
   "source": [
    "Se calcularan ahora las metricas de costumbre, iniciando con el arbol creado utilizando GINI:"
   ]
  },
  {
   "cell_type": "code",
   "execution_count": 75,
   "metadata": {},
   "outputs": [
    {
     "name": "stdout",
     "output_type": "stream",
     "text": [
      "0.8040542447016976\n",
      "0.8031533438007967\n",
      "0.8027049133075232\n",
      "0.8040522247445209\n",
      "0.8031533438007967\n",
      "0.8036017742940704\n",
      "0.8040542447016976\n",
      "0.8036017742940704\n",
      "0.8737542509430039\n",
      "0.874990035344085\n",
      "0.8747102694615224\n",
      "0.8744003730646673\n",
      "0.875155002694297\n",
      "0.8758375463546374\n",
      "0.8747102694615224\n",
      "0.8737542509430039\n",
      "0.7432669357669358\n",
      "0.830579963798385\n",
      "0.7557669357669358\n",
      "0.8181433166248956\n",
      "0.7521305721305722\n",
      "0.8177705513784461\n",
      "0.7431859131859132\n",
      "0.8234560150375941\n",
      "0.745004095004095\n",
      "0.828794207741576\n",
      "0.7557344682344682\n",
      "0.8226507658033974\n",
      "0.7468058968058969\n",
      "0.8291252436647174\n",
      "0.7450201825201826\n",
      "0.8176340991367308\n"
     ]
    }
   ],
   "source": [
    "acc_train_6=[]\n",
    "for ac in range(0,len(tree_6_gn)):\n",
    "    acc_results_train_6 = model_selection.cross_val_score(tree_6_gn[ac], lista[ac], train_y, cv=5, scoring='accuracy')\n",
    "    acc_train_6.append(acc_results_train_6)\n",
    "    print(acc_train_6[ac].mean()) \n",
    "\n",
    "roc_train_6=[]\n",
    "for ac in range(0,len(tree_6_gn)):\n",
    "    roc_results_train_6 = model_selection.cross_val_score(tree_6_gn[ac], lista[ac], train_y, cv=5, scoring='roc_auc')\n",
    "    roc_train_6.append(roc_results_train_6)\n",
    "    print(roc_train_6[ac].mean()) \n",
    "\n",
    "acc_val_6=[]\n",
    "roc_val_6=[]\n",
    "for az in range(0,len(tree_6_gn)):\n",
    "    acc_results_val_6 = model_selection.cross_val_score(tree_6_gn[az], val_X, val_y, cv=5, scoring='accuracy')\n",
    "    acc_val_6.append(acc_results_val_6)\n",
    "    roc_results_val_6 = model_selection.cross_val_score(tree_6_gn[az], val_X, val_y, cv=5, scoring='roc_auc')\n",
    "    roc_val_6.append(roc_results_val_6)\n",
    "    print(acc_val_6[az].mean())\n",
    "    print(roc_val_6[az].mean())\n",
    "    "
   ]
  },
  {
   "cell_type": "markdown",
   "metadata": {},
   "source": [
    "A partir de este ejercicio, se puede concluir que implementar un arbol de profundida igual a 6 mejora el desempeño para todas las metricas estudiadas, por lo dicho arbol ajusta mejor al dataset en cuestion. Ahora se calcularan las mismas metricas para el arbol entrenado a partir de information gane:"
   ]
  },
  {
   "cell_type": "code",
   "execution_count": 76,
   "metadata": {},
   "outputs": [
    {
     "name": "stdout",
     "output_type": "stream",
     "text": [
      "0.8031533438007967\n",
      "0.8036037942512472\n",
      "0.8036058142084241\n",
      "0.8027049133075232\n",
      "0.8040522247445209\n",
      "0.8036037942512472\n",
      "0.8027049133075232\n",
      "0.8036037942512472\n",
      "0.875155002694297\n",
      "0.8754648990911521\n",
      "0.8745088805726337\n",
      "0.8756361574657484\n",
      "0.8745088805726337\n",
      "0.8745088805726337\n",
      "0.8747102694615224\n",
      "0.8745088805726337\n",
      "0.7449877149877151\n",
      "0.8295931216931217\n",
      "0.7575201825201827\n",
      "0.8260613338902812\n",
      "0.7521144846144845\n",
      "0.8194250348092453\n",
      "0.7485916110916111\n",
      "0.8129825396825398\n",
      "0.7539651339651339\n",
      "0.8191076023391812\n",
      "0.7485916110916111\n",
      "0.8136038847117794\n",
      "0.7485916110916111\n",
      "0.8300389863547757\n",
      "0.745004095004095\n",
      "0.8174875104427736\n"
     ]
    }
   ],
   "source": [
    "acc_train_6_ig=[]\n",
    "for ac in range(0,len(tree_6_ig)):\n",
    "    acc_results_train_6_ig = model_selection.cross_val_score(tree_6_gn[ac], lista[ac], train_y, cv=5, scoring='accuracy')\n",
    "    acc_train_6_ig.append(acc_results_train_6_ig)\n",
    "    print(acc_train_6_ig[ac].mean()) \n",
    "\n",
    "roc_train_6_ig=[]\n",
    "for ac in range(0,len(tree_6_ig)):\n",
    "    roc_results_train_6_ig = model_selection.cross_val_score(tree_6_gn[ac], lista[ac], train_y, cv=5, scoring='roc_auc')\n",
    "    roc_train_6_ig.append(roc_results_train_6_ig)\n",
    "    print(roc_train_6_ig[ac].mean()) \n",
    "\n",
    "acc_val_6_ig=[]\n",
    "roc_val_6_ig=[]\n",
    "for az in range(0,len(tree_6_ig)):\n",
    "    acc_results_val_6_ig = model_selection.cross_val_score(tree_6_gn[az], val_X, val_y, cv=5, scoring='accuracy')\n",
    "    acc_val_6_ig.append(acc_results_val_6_ig)\n",
    "    roc_results_val_6_ig = model_selection.cross_val_score(tree_6_gn[az], val_X, val_y, cv=5, scoring='roc_auc')\n",
    "    roc_val_6_ig.append(roc_results_val_6_ig)\n",
    "    print(acc_val_6_ig[az].mean())\n",
    "    print(roc_val_6_ig[az].mean())"
   ]
  },
  {
   "cell_type": "markdown",
   "metadata": {},
   "source": [
    "Se evidencia que las metricas son bastante similares a las observadas con la utilizacion de GINI. Ahora se entrenara un arbol sin ninguna especificacion de altura maxima para ambos criterios:"
   ]
  },
  {
   "cell_type": "code",
   "execution_count": 77,
   "metadata": {},
   "outputs": [],
   "source": [
    "tree_max_gn=[]\n",
    "for dt in lista:\n",
    "    dtree= sk.tree.DecisionTreeClassifier()\n",
    "    q=dtree.fit(dt, train_y)\n",
    "    tree_max_gn.append(q)\n",
    "    \n",
    "tree_max_ig=[]\n",
    "for dt in lista:\n",
    "    dtree= sk.tree.DecisionTreeClassifier(criterion = 'entropy')\n",
    "    q=dtree.fit(dt, train_y)\n",
    "    tree_max_ig.append(q)    \n",
    "    \n",
    "    "
   ]
  },
  {
   "cell_type": "markdown",
   "metadata": {},
   "source": [
    "De la misma manera que para el arbol anterior, se calcularan las metricas de costumbre utilizando GINI:"
   ]
  },
  {
   "cell_type": "code",
   "execution_count": 79,
   "metadata": {},
   "outputs": [
    {
     "name": "stdout",
     "output_type": "stream",
     "text": [
      "0.7775231557450533\n",
      "0.7721258256291258\n",
      "0.7743770701724044\n",
      "0.7757213494040218\n",
      "0.7779675417847434\n",
      "0.7680818849786453\n",
      "0.7752799910304823\n",
      "0.7766303301336304\n",
      "0.7412049967541148\n",
      "0.7477954837642088\n",
      "0.7450318637746464\n",
      "0.7419354800728097\n",
      "0.746738820788941\n",
      "0.7446039733455531\n",
      "0.7360930168913329\n",
      "0.7464384427387636\n",
      "0.7593222768222768\n",
      "0.7122063492063492\n",
      "0.7558801333801334\n",
      "0.7239741019214704\n",
      "0.7504100854100855\n",
      "0.7315538847117795\n",
      "0.7682672282672283\n",
      "0.7437535505430243\n",
      "0.7682669357669358\n",
      "0.7076299081035924\n",
      "0.7629586404586404\n",
      "0.7204411027568922\n",
      "0.7629097929097929\n",
      "0.7325363408521303\n",
      "0.7592903942903944\n",
      "0.7257852965747703\n"
     ]
    }
   ],
   "source": [
    "acc_train_max=[]\n",
    "for ac in range(0,len(tree_max_gn)):\n",
    "    acc_results_train_max = model_selection.cross_val_score(tree_max_gn[ac], lista[ac], train_y, cv=5, scoring='accuracy')\n",
    "    acc_train_max.append(acc_results_train_max)\n",
    "    print(acc_train_max[ac].mean()) \n",
    "\n",
    "roc_train_max=[]\n",
    "for ac in range(0,len(tree_max_gn)):\n",
    "    roc_results_train_max = model_selection.cross_val_score(tree_max_gn[ac], lista[ac], train_y, cv=5, scoring='roc_auc')\n",
    "    roc_train_max.append(roc_results_train_max)\n",
    "    print(roc_train_max[ac].mean()) \n",
    "\n",
    "acc_val_max=[]\n",
    "roc_val_max=[]\n",
    "for az in range(0,len(tree_max_gn)):\n",
    "    acc_results_val_max = model_selection.cross_val_score(tree_max_gn[az], val_X, val_y, cv=5, scoring='accuracy')\n",
    "    acc_val_max.append(acc_results_val_max)\n",
    "    roc_results_val_max = model_selection.cross_val_score(tree_max_gn[az], val_X, val_y, cv=5, scoring='roc_auc')\n",
    "    roc_val_max.append(roc_results_val_max)\n",
    "    print(acc_val_max[az].mean())\n",
    "    print(roc_val_max[az].mean())"
   ]
  },
  {
   "cell_type": "markdown",
   "metadata": {},
   "source": [
    "Es evidente que al no restringir la altura maxima se obtienen resultados inferiores para las medidas de precision, tanto para los datos de entrenamiento como para los de validacion. A continuacion se calculan las metricas basadas en information gane:"
   ]
  },
  {
   "cell_type": "code",
   "execution_count": 80,
   "metadata": {},
   "outputs": [
    {
     "name": "stdout",
     "output_type": "stream",
     "text": [
      "0.7640167007335849\n",
      "0.7707673930795813\n",
      "0.7721227707275976\n",
      "0.7613180288667767\n",
      "0.7649276923419112\n",
      "0.7689645744903467\n",
      "0.7680667012555963\n",
      "0.7766131400710934\n",
      "0.7412649533483535\n",
      "0.7389275785695192\n",
      "0.7240585945952825\n",
      "0.7296582719160906\n",
      "0.7348100616081772\n",
      "0.7305530574967223\n",
      "0.7303942923333462\n",
      "0.7351542304705897\n",
      "0.775506903006903\n",
      "0.7380568086883876\n",
      "0.7827468702468702\n",
      "0.7580810359231412\n",
      "0.7684286884286884\n",
      "0.7410108604845448\n",
      "0.7701172926172927\n",
      "0.7256474519632414\n",
      "0.7665783315783316\n",
      "0.7296265664160401\n",
      "0.7791432666432666\n",
      "0.7270426065162907\n",
      "0.7540297765297764\n",
      "0.7454636591478696\n",
      "0.7612536562536563\n",
      "0.7455873015873016\n"
     ]
    }
   ],
   "source": [
    "acc_train_max_ig=[]\n",
    "for ac in range(0,len(tree_max_ig)):\n",
    "    acc_results_train_max_ig = model_selection.cross_val_score(tree_max_ig[ac], lista[ac], train_y, cv=5, scoring='accuracy')\n",
    "    acc_train_max_ig.append(acc_results_train_max_ig)\n",
    "    print(acc_train_max_ig[ac].mean()) \n",
    "\n",
    "roc_train_max_ig=[]\n",
    "for ac in range(0,len(tree_max_ig)):\n",
    "    roc_results_train_max_ig = model_selection.cross_val_score(tree_max_ig[ac], lista[ac], train_y, cv=5, scoring='roc_auc')\n",
    "    roc_train_max_ig.append(roc_results_train_max_ig)\n",
    "    print(roc_train_max_ig[ac].mean()) \n",
    "\n",
    "acc_val_max_ig=[]\n",
    "roc_val_max_ig=[]\n",
    "for az in range(0,len(tree_max_ig)):\n",
    "    acc_results_val_max_ig = model_selection.cross_val_score(tree_max_ig[az], val_X, val_y, cv=5, scoring='accuracy')\n",
    "    acc_val_max_ig.append(acc_results_val_max_ig)\n",
    "    roc_results_val_max_ig = model_selection.cross_val_score(tree_max_ig[az], val_X, val_y, cv=5, scoring='roc_auc')\n",
    "    roc_val_max_ig.append(roc_results_val_max_ig)\n",
    "    print(acc_val_max_ig[az].mean())\n",
    "    print(roc_val_max_ig[az].mean())"
   ]
  },
  {
   "cell_type": "markdown",
   "metadata": {},
   "source": [
    "Se puede apreciar que los valores obtenido son superiores respecto a aquellos obtenidos mediante la utilizacion de GINI.    "
   ]
  },
  {
   "cell_type": "code",
   "execution_count": 37,
   "metadata": {},
   "outputs": [],
   "source": [
    "Importance = pd.DataFrame({'Variable': X.columns,\n",
    "    'Valor':dtree.feature_importances_ })\n",
    "Importance=Importance.sort_values('Valor',ascending=True)"
   ]
  },
  {
   "cell_type": "code",
   "execution_count": 38,
   "metadata": {},
   "outputs": [
    {
     "data": {
      "text/plain": [
       "Text(0.5, 1.0, 'Variables mas importantes')"
      ]
     },
     "execution_count": 38,
     "metadata": {},
     "output_type": "execute_result"
    },
    {
     "data": {
      "image/png": "[encoded data removed]",
      "text/plain": [
       "<Figure size 432x288 with 1 Axes>"
      ]
     },
     "metadata": {
      "needs_background": "light"
     },
     "output_type": "display_data"
    }
   ],
   "source": [
    "#ANALISIS DE IMPORTANCIA\n",
    "\n",
    "import matplotlib.pyplot as plt\n",
    "#Importance['Variable']\n",
    "y_pos = np.arange(len(Importance['Valor']))\n",
    "\n",
    "plt.barh(y_pos,Importance['Valor'],align='center')\n",
    "plt.yticks(y_pos, Importance['Variable'])\n",
    "plt.xlabel('Importancia Relativa')\n",
    "plt.figtext(-0.5,0,50)\n",
    "plt.title('Variables mas importantes')"
   ]
  },
  {
   "cell_type": "code",
   "execution_count": 152,
   "metadata": {},
   "outputs": [
    {
     "data": {
      "text/plain": [
       "<bound method BaseDecisionTree.decision_path of DecisionTreeClassifier(class_weight=None, criterion='gini', max_depth=None,\n",
       "            max_features=None, max_leaf_nodes=None,\n",
       "            min_impurity_decrease=0.0, min_impurity_split=None,\n",
       "            min_samples_leaf=1, min_samples_split=2,\n",
       "            min_weight_fraction_leaf=0.0, presort=False, random_state=None,\n",
       "            splitter='best')>"
      ]
     },
     "execution_count": 152,
     "metadata": {},
     "output_type": "execute_result"
    }
   ],
   "source": [
    "cv_results.mean()\n",
    "dtree.decision_path\n"
   ]
  },
  {
   "cell_type": "code",
   "execution_count": 5,
   "metadata": {},
   "outputs": [
    {
     "ename": "NameError",
     "evalue": "name 'dtree' is not defined",
     "output_type": "error",
     "traceback": [
      "\u001b[0;31m---------------------------------------------------------------------------\u001b[0m",
      "\u001b[0;31mNameError\u001b[0m                                 Traceback (most recent call last)",
      "\u001b[0;32m<ipython-input-5-b2ba870aab2d>\u001b[0m in \u001b[0;36m<module>\u001b[0;34m\u001b[0m\n\u001b[0;32m----> 1\u001b[0;31m \u001b[0mpredictions\u001b[0m\u001b[0;34m=\u001b[0m\u001b[0mdtree\u001b[0m\u001b[0;34m.\u001b[0m\u001b[0mpredict\u001b[0m\u001b[0;34m(\u001b[0m\u001b[0mtest_X\u001b[0m\u001b[0;34m)\u001b[0m\u001b[0;34m\u001b[0m\u001b[0;34m\u001b[0m\u001b[0m\n\u001b[0m\u001b[1;32m      2\u001b[0m \u001b[0macc\u001b[0m\u001b[0;34m=\u001b[0m\u001b[0msk\u001b[0m\u001b[0;34m.\u001b[0m\u001b[0mmetrics\u001b[0m\u001b[0;34m.\u001b[0m\u001b[0maccuracy_score\u001b[0m\u001b[0;34m(\u001b[0m\u001b[0mtest_y\u001b[0m\u001b[0;34m,\u001b[0m \u001b[0mpredictions\u001b[0m\u001b[0;34m)\u001b[0m\u001b[0;34m\u001b[0m\u001b[0;34m\u001b[0m\u001b[0m\n\u001b[1;32m      3\u001b[0m Predi = pd.DataFrame({'Class':test_y,\n\u001b[1;32m      4\u001b[0m     'Predictions':predictions})\n\u001b[1;32m      5\u001b[0m \u001b[0mconfusion_matrix\u001b[0m\u001b[0;34m(\u001b[0m\u001b[0mtest_y\u001b[0m\u001b[0;34m,\u001b[0m \u001b[0mpredictions\u001b[0m\u001b[0;34m)\u001b[0m\u001b[0;34m\u001b[0m\u001b[0;34m\u001b[0m\u001b[0m\n",
      "\u001b[0;31mNameError\u001b[0m: name 'dtree' is not defined"
     ]
    }
   ],
   "source": [
    "predictions=dtree.predict(test_X)\n",
    "acc=sk.metrics.accuracy_score(test_y, predictions)\n",
    "Predi = pd.DataFrame({'Class':test_y,\n",
    "    'Predictions':predictions})\n",
    "sk.metrics.confusion_matrix(test_y, predictions)\n",
    "#PREDICE BIEN EL 1. El lo predice de una"
   ]
  },
  {
   "cell_type": "code",
   "execution_count": 161,
   "metadata": {},
   "outputs": [
    {
     "name": "stderr",
     "output_type": "stream",
     "text": [
      "C:\\Users\\rmaur\\Anaconda3\\lib\\site-packages\\sklearn\\model_selection\\_split.py:2053: FutureWarning: You should specify a value for 'cv' instead of relying on the default value. The default value will change from 3 to 5 in version 0.22.\n",
      "  warnings.warn(CV_WARNING, FutureWarning)\n"
     ]
    },
    {
     "name": "stdout",
     "output_type": "stream",
     "text": [
      "0.7156411730879816 {'max_depth': 5} DecisionTreeClassifier(class_weight=None, criterion='gini', max_depth=5,\n",
      "            max_features=None, max_leaf_nodes=None,\n",
      "            min_impurity_decrease=0.0, min_impurity_split=None,\n",
      "            min_samples_leaf=1, min_samples_split=2,\n",
      "            min_weight_fraction_leaf=0.0, presort=False, random_state=None,\n",
      "            splitter='best')\n"
     ]
    }
   ],
   "source": [
    "from sklearn.model_selection import GridSearchCV\n",
    "\n",
    "parameters = {'max_depth':range(3,20)}\n",
    "clf = GridSearchCV(DecisionTreeClassifier(), parameters, n_jobs=10)\n",
    "clf.fit(X=X, y=Y)\n",
    "tree_model = clf.best_estimator_\n",
    "\n",
    "print (clf.best_score_, clf.best_params_,clf.best_estimator_)"
   ]
  },
  {
   "cell_type": "code",
   "execution_count": 304,
   "metadata": {},
   "outputs": [
    {
     "data": {
      "text/plain": [
       "DecisionTreeClassifier(class_weight={1: 2, 2: 1, 3: 2, 4: 1, 5: 1, 6: 1},\n",
       "            criterion='entropy', max_depth=7, max_features=None,\n",
       "            max_leaf_nodes=None, min_impurity_decrease=0.0,\n",
       "            min_impurity_split=None, min_samples_leaf=1,\n",
       "            min_samples_split=2, min_weight_fraction_leaf=0.0,\n",
       "            presort=False, random_state=None, splitter='best')"
      ]
     },
     "execution_count": 304,
     "metadata": {},
     "output_type": "execute_result"
    }
   ],
   "source": [
    " adtree=DecisionTreeClassifier(max_depth=7,criterion='entropy',\n",
    "                              class_weight= {1:2,2:1,3:2,4:1,5:1,6:1})\n",
    "#PRUEBO UN MAX DEPTH 5, PERO CON 7 DA1 MEJORpy Y ENTROPIA\n",
    "\n",
    "adtree.fit(train_X, train_y)"
   ]
  },
  {
   "cell_type": "code",
   "execution_count": 313,
   "metadata": {},
   "outputs": [
    {
     "data": {
      "text/plain": [
       "DecisionTreeClassifier(class_weight={1: 4, 2: 2, 3: 4, 4: 2, 5: 3, 6: 1},\n",
       "            criterion='entropy', max_depth=7, max_features=None,\n",
       "            max_leaf_nodes=None, min_impurity_decrease=0.0,\n",
       "            min_impurity_split=None, min_samples_leaf=1,\n",
       "            min_samples_split=2, min_weight_fraction_leaf=0.0,\n",
       "            presort=False, random_state=None, splitter='best')"
      ]
     },
     "execution_count": 313,
     "metadata": {},
     "output_type": "execute_result"
    }
   ],
   "source": [
    " adtree=DecisionTreeClassifier(max_depth=7,criterion='entropy',\n",
    "                              class_weight= {1:4,2:2,3:4,4:2,5:3,6:1})\n",
    "#PRUEBO UN MAX DEPTH 5, PERO CON 7 DA1 MEJORpy Y ENTROPIA\n",
    "\n",
    "adtree.fit(train_X, train_y)"
   ]
  },
  {
   "cell_type": "code",
   "execution_count": 314,
   "metadata": {},
   "outputs": [
    {
     "data": {
      "text/plain": [
       "0.7068965517241379"
      ]
     },
     "execution_count": 314,
     "metadata": {},
     "output_type": "execute_result"
    }
   ],
   "source": [
    "predictions=adtree.predict(test_X)\n",
    "acc=sk.metrics.accuracy_score(test_y, predictions)\n",
    "acc"
   ]
  },
  {
   "cell_type": "code",
   "execution_count": null,
   "metadata": {},
   "outputs": [],
   "source": []
  }
 ],
 "metadata": {
  "kernelspec": {
   "display_name": "Python 3",
   "language": "python",
   "name": "python3"
  },
  "language_info": {
   "codemirror_mode": {
    "name": "ipython",
    "version": 3
   },
   "file_extension": ".py",
   "mimetype": "text/x-python",
   "name": "python",
   "nbconvert_exporter": "python",
   "pygments_lexer": "ipython3",
   "version": "3.7.3"
  },
  "toc": {
   "base_numbering": 1,
   "nav_menu": {},
   "number_sections": true,
   "sideBar": true,
   "skip_h1_title": false,
   "title_cell": "Table of Contents",
   "title_sidebar": "Contents",
   "toc_cell": false,
   "toc_position": {},
   "toc_section_display": true,
   "toc_window_display": false
  }
 },
 "nbformat": 4,
 "nbformat_minor": 2
}

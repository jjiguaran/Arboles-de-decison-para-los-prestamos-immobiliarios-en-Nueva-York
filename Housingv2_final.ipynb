{
 "cells": [
  {
   "cell_type": "markdown",
   "metadata": {},
   "source": [
    "# Trabajo practico 1: Clasificiones con Decision Trees y Naive Bayes\n",
    "### Integrantes: Rodrigo Mauriño, Martin Llada, Juan Jose Iguaran"
   ]
  },
  {
   "cell_type": "markdown",
   "metadata": {},
   "source": [
    "La base de datos consiste en informacion sobre creditos para vivivienda en el estado de Nueva York, EE.UU. y el objetivo del ejercicio es lograr entrenar modelos clasificatorios que permitan predecir si el aplicante n, dados los valores de los atributos X, es elegible para el credito.  <br> Para proceder a entrenar los modelos clasificatorios, es necesario alistar el framework mediante la importacion de las librerias necesarias:"
   ]
  },
  {
   "cell_type": "code",
   "execution_count": 4,
   "metadata": {},
   "outputs": [],
   "source": [
    "import os\n",
    "import pandas as pd \n",
    "import numpy as np\n",
    "import sklearn as sk\n",
    "import random\n",
    "from sklearn import model_selection\n",
    "from sklearn import tree\n",
    "import matplotlib.pyplot as plt\n",
    "from sklearn.naive_bayes import GaussianNB"
   ]
  },
  {
   "cell_type": "markdown",
   "metadata": {},
   "source": [
    "Una vez importadas las librerias, es necesario importar el dataset a ser utlizado, asi como una pequeña visualizacion del mismo:"
   ]
  },
  {
   "cell_type": "code",
   "execution_count": 5,
   "metadata": {},
   "outputs": [
    {
     "data": {
      "text/html": [
       "<div>\n",
       "<style scoped>\n",
       "    .dataframe tbody tr th:only-of-type {\n",
       "        vertical-align: middle;\n",
       "    }\n",
       "\n",
       "    .dataframe tbody tr th {\n",
       "        vertical-align: top;\n",
       "    }\n",
       "\n",
       "    .dataframe thead th {\n",
       "        text-align: right;\n",
       "    }\n",
       "</style>\n",
       "<table border=\"1\" class=\"dataframe\">\n",
       "  <thead>\n",
       "    <tr style=\"text-align: right;\">\n",
       "      <th></th>\n",
       "      <th>action_taken</th>\n",
       "      <th>agency_code</th>\n",
       "      <th>applicant_ethnicity</th>\n",
       "      <th>applicant_income_000s</th>\n",
       "      <th>applicant_race_1</th>\n",
       "      <th>applicant_sex</th>\n",
       "      <th>application_date_indicator</th>\n",
       "      <th>census_tract_number</th>\n",
       "      <th>co_applicant_ethnicity</th>\n",
       "      <th>co_applicant_race_1</th>\n",
       "      <th>...</th>\n",
       "      <th>property_type</th>\n",
       "      <th>purchaser_type</th>\n",
       "      <th>sequence_number</th>\n",
       "      <th>hud_median_family_income</th>\n",
       "      <th>loan_amount_000s</th>\n",
       "      <th>number_of_1_to_4_family_units</th>\n",
       "      <th>number_of_owner_occupied_units</th>\n",
       "      <th>minority_population</th>\n",
       "      <th>population</th>\n",
       "      <th>tract_to_msamd_income</th>\n",
       "    </tr>\n",
       "  </thead>\n",
       "  <tbody>\n",
       "    <tr>\n",
       "      <th>0</th>\n",
       "      <td>1</td>\n",
       "      <td>9</td>\n",
       "      <td>3</td>\n",
       "      <td>230.0</td>\n",
       "      <td>6</td>\n",
       "      <td>3</td>\n",
       "      <td>0</td>\n",
       "      <td>319.00</td>\n",
       "      <td>5</td>\n",
       "      <td>8</td>\n",
       "      <td>...</td>\n",
       "      <td>1</td>\n",
       "      <td>0</td>\n",
       "      <td>155085</td>\n",
       "      <td>82700.0</td>\n",
       "      <td>159</td>\n",
       "      <td>2414.0</td>\n",
       "      <td>2077.0</td>\n",
       "      <td>14.770000</td>\n",
       "      <td>7442.0</td>\n",
       "      <td>138.440002</td>\n",
       "    </tr>\n",
       "    <tr>\n",
       "      <th>1</th>\n",
       "      <td>1</td>\n",
       "      <td>7</td>\n",
       "      <td>1</td>\n",
       "      <td>66.0</td>\n",
       "      <td>6</td>\n",
       "      <td>1</td>\n",
       "      <td>0</td>\n",
       "      <td>602.02</td>\n",
       "      <td>3</td>\n",
       "      <td>5</td>\n",
       "      <td>...</td>\n",
       "      <td>2</td>\n",
       "      <td>0</td>\n",
       "      <td>37462</td>\n",
       "      <td>95200.0</td>\n",
       "      <td>47</td>\n",
       "      <td>1422.0</td>\n",
       "      <td>1298.0</td>\n",
       "      <td>19.690001</td>\n",
       "      <td>3997.0</td>\n",
       "      <td>85.000000</td>\n",
       "    </tr>\n",
       "    <tr>\n",
       "      <th>3</th>\n",
       "      <td>1</td>\n",
       "      <td>5</td>\n",
       "      <td>2</td>\n",
       "      <td>174.0</td>\n",
       "      <td>5</td>\n",
       "      <td>1</td>\n",
       "      <td>0</td>\n",
       "      <td>502.03</td>\n",
       "      <td>2</td>\n",
       "      <td>5</td>\n",
       "      <td>...</td>\n",
       "      <td>1</td>\n",
       "      <td>0</td>\n",
       "      <td>20</td>\n",
       "      <td>95200.0</td>\n",
       "      <td>40</td>\n",
       "      <td>1723.0</td>\n",
       "      <td>1578.0</td>\n",
       "      <td>17.639999</td>\n",
       "      <td>4971.0</td>\n",
       "      <td>119.169998</td>\n",
       "    </tr>\n",
       "    <tr>\n",
       "      <th>4</th>\n",
       "      <td>1</td>\n",
       "      <td>9</td>\n",
       "      <td>2</td>\n",
       "      <td>100.0</td>\n",
       "      <td>5</td>\n",
       "      <td>2</td>\n",
       "      <td>0</td>\n",
       "      <td>195.00</td>\n",
       "      <td>5</td>\n",
       "      <td>8</td>\n",
       "      <td>...</td>\n",
       "      <td>1</td>\n",
       "      <td>0</td>\n",
       "      <td>12370</td>\n",
       "      <td>71300.0</td>\n",
       "      <td>378</td>\n",
       "      <td>615.0</td>\n",
       "      <td>738.0</td>\n",
       "      <td>60.779999</td>\n",
       "      <td>3366.0</td>\n",
       "      <td>78.169998</td>\n",
       "    </tr>\n",
       "    <tr>\n",
       "      <th>5</th>\n",
       "      <td>1</td>\n",
       "      <td>7</td>\n",
       "      <td>2</td>\n",
       "      <td>155.0</td>\n",
       "      <td>5</td>\n",
       "      <td>1</td>\n",
       "      <td>0</td>\n",
       "      <td>3037.00</td>\n",
       "      <td>2</td>\n",
       "      <td>5</td>\n",
       "      <td>...</td>\n",
       "      <td>1</td>\n",
       "      <td>1</td>\n",
       "      <td>143</td>\n",
       "      <td>109000.0</td>\n",
       "      <td>352</td>\n",
       "      <td>2008.0</td>\n",
       "      <td>2041.0</td>\n",
       "      <td>22.570000</td>\n",
       "      <td>6718.0</td>\n",
       "      <td>87.589996</td>\n",
       "    </tr>\n",
       "  </tbody>\n",
       "</table>\n",
       "<p>5 rows × 30 columns</p>\n",
       "</div>"
      ],
      "text/plain": [
       "   action_taken  agency_code  applicant_ethnicity  applicant_income_000s  \\\n",
       "0             1            9                    3                  230.0   \n",
       "1             1            7                    1                   66.0   \n",
       "3             1            5                    2                  174.0   \n",
       "4             1            9                    2                  100.0   \n",
       "5             1            7                    2                  155.0   \n",
       "\n",
       "   applicant_race_1  applicant_sex  application_date_indicator  \\\n",
       "0                 6              3                           0   \n",
       "1                 6              1                           0   \n",
       "3                 5              1                           0   \n",
       "4                 5              2                           0   \n",
       "5                 5              1                           0   \n",
       "\n",
       "   census_tract_number  co_applicant_ethnicity  co_applicant_race_1  \\\n",
       "0               319.00                       5                    8   \n",
       "1               602.02                       3                    5   \n",
       "3               502.03                       2                    5   \n",
       "4               195.00                       5                    8   \n",
       "5              3037.00                       2                    5   \n",
       "\n",
       "           ...            property_type  purchaser_type sequence_number  \\\n",
       "0          ...                        1               0          155085   \n",
       "1          ...                        2               0           37462   \n",
       "3          ...                        1               0              20   \n",
       "4          ...                        1               0           12370   \n",
       "5          ...                        1               1             143   \n",
       "\n",
       "   hud_median_family_income  loan_amount_000s  number_of_1_to_4_family_units  \\\n",
       "0                   82700.0               159                         2414.0   \n",
       "1                   95200.0                47                         1422.0   \n",
       "3                   95200.0                40                         1723.0   \n",
       "4                   71300.0               378                          615.0   \n",
       "5                  109000.0               352                         2008.0   \n",
       "\n",
       "   number_of_owner_occupied_units  minority_population  population  \\\n",
       "0                          2077.0            14.770000      7442.0   \n",
       "1                          1298.0            19.690001      3997.0   \n",
       "3                          1578.0            17.639999      4971.0   \n",
       "4                           738.0            60.779999      3366.0   \n",
       "5                          2041.0            22.570000      6718.0   \n",
       "\n",
       "   tract_to_msamd_income  \n",
       "0             138.440002  \n",
       "1              85.000000  \n",
       "3             119.169998  \n",
       "4              78.169998  \n",
       "5              87.589996  \n",
       "\n",
       "[5 rows x 30 columns]"
      ]
     },
     "execution_count": 5,
     "metadata": {},
     "output_type": "execute_result"
    }
   ],
   "source": [
    "data = pd.read_csv(\"baseclean.csv\")\n",
    "dataf=data.copy()\n",
    "dataf=dataf.dropna()\n",
    "dataf.head()"
   ]
  },
  {
   "cell_type": "markdown",
   "metadata": {},
   "source": [
    "Puesto que una delas variables, especificamente, el nombre del condado es un string, se procede a realizar una transformacion en numerica mediante label_encoder y luego reemplazar los valores originales por los obtenidos a partir de la transformacion para poder ejecutar el algoritmo. Asi mismo, es necesario transformar la variable objetivo action_taken en binario para poder luego calcular medidas de desempeño, asi que se procede crear una lista que contiene los indices que resultaron en un credito aprobado, para asignar 1 si la entrada esta dentro de los valores de la lista, o 0 en caso contrario::"
   ]
  },
  {
   "cell_type": "code",
   "execution_count": 6,
   "metadata": {},
   "outputs": [],
   "source": [
    "values = np.array(dataf[\"county_name\"])\n",
    "integer_encoded = sk.preprocessing.LabelEncoder().fit_transform(values)\n",
    "dataf.loc[:,\"county_name\"]=integer_encoded\n",
    "lista = [1,5,6]\n",
    "target_encoded =dataf['action_taken'].isin(lista).astype(int)"
   ]
  },
  {
   "cell_type": "markdown",
   "metadata": {},
   "source": [
    "## 1) Particion de datos\n",
    "Ahora que los datos se encuentran en un formato apto para el modelo, se procede a ejecutar su particion. Esta particion tendra como varible objetivo la decision tomada, y como parametros las demas columnas. Consistira en un 80% de los datos para desarrollo y en un 20% para test:"
   ]
  },
  {
   "cell_type": "code",
   "execution_count": 7,
   "metadata": {},
   "outputs": [],
   "source": [
    "X=dataf.iloc[:,1:]\n",
    "Y=target_encoded\n",
    "dev_x, test_x, dev_y, test_y = model_selection.train_test_split(X,Y,train_size=0.8, test_size=0.2,random_state=123)"
   ]
  },
  {
   "cell_type": "markdown",
   "metadata": {},
   "source": [
    "## 2) Arboles de decision"
   ]
  },
  {
   "cell_type": "markdown",
   "metadata": {},
   "source": [
    "### 2.1) Arbol de altura 3"
   ]
  },
  {
   "cell_type": "markdown",
   "metadata": {},
   "source": [
    "Con el objetivo de realizar una validacion cruzada que permita calcular las medidas de desempeño tanto para los datos de entrenamiento como para los de validacion, se procede a implementar la funcion cross_val_nuevo(x_set, y_set, n_folds, tree, perf) que tomara como entrada el set de datos, el set de datos a predecir, el numero de particiones, un modelo predictivo y el tipo de medida de desempeño. Tendra como salida dos listas, ambas de longitud del numero de particiones, la primera seran los puntajes para los datos de entrenamiento y la segunda seran los puntajes para los datos de validacion:"
   ]
  },
  {
   "cell_type": "code",
   "execution_count": 8,
   "metadata": {},
   "outputs": [],
   "source": [
    "def cross_val_nuevo(x_set, y_set, n_folds, model, perf):\n",
    "    tree = sk.base.clone(model)\n",
    "    index = random.sample(range(x_set.shape[0]), x_set.shape[0])\n",
    "    n = int(x_set.shape[0]/n_folds)\n",
    "    list_x = []\n",
    "    list_y = []\n",
    "    train_score = []\n",
    "    val_score = []\n",
    "    for i in range(n_folds):\n",
    "        fold_x = x_set.iloc[index[n*i:n*(i+1)],].copy()\n",
    "        list_x.append(fold_x)\n",
    "        fold_y = y_set.iloc[index[n*i:n*(i+1)],].copy()\n",
    "        list_y.append(fold_y)\n",
    "    for i in range(n_folds):\n",
    "        val_x = list_x[i].copy()\n",
    "        val_y = list_y[i].copy()\n",
    "        train_x = list_x.copy()\n",
    "        train_y = list_y.copy()\n",
    "        del train_x[i]\n",
    "        del train_y[i]\n",
    "        x = pd.concat(train_x)\n",
    "        y = pd.concat(train_y)\n",
    "        tree.fit(x,y)\n",
    "        pred_train = tree.predict(x)\n",
    "        pred_val = tree.predict(val_x)\n",
    "        if perf == 'acc':\n",
    "            train_score.append(round(sk.metrics.accuracy_score(y,pred_train), 3))\n",
    "            val_score.append(round(sk.metrics.accuracy_score(val_y,pred_val), 3))\n",
    "        elif perf == 'roc':\n",
    "            train_score.append(round(sk.metrics.roc_auc_score(y,pred_train), 3))\n",
    "            val_score.append(round(sk.metrics.roc_auc_score(val_y,pred_val), 3))\n",
    "    return train_score,val_score        "
   ]
  },
  {
   "cell_type": "markdown",
   "metadata": {},
   "source": [
    "Se procede a crear un objeto tipo DecisionTreeClassifier con altura maxima altura 3 manteniendo el resto de los hiperparametros en su valor preestablecido:"
   ]
  },
  {
   "cell_type": "code",
   "execution_count": 9,
   "metadata": {},
   "outputs": [],
   "source": [
    "dtree =sk.tree.DecisionTreeClassifier(max_depth = 3)"
   ]
  },
  {
   "cell_type": "markdown",
   "metadata": {},
   "source": [
    "Una vez creado el objeto, se procede a estimar el desempeño del modelo utilizando 5-fold cross validation a travez de la funcion  cross_val_nuevo utilizando la medida de accuracy:"
   ]
  },
  {
   "cell_type": "code",
   "execution_count": 10,
   "metadata": {},
   "outputs": [
    {
     "data": {
      "text/plain": [
       "([0.799, 0.781, 0.793, 0.786, 0.792], [0.802, 0.784, 0.764, 0.793, 0.788])"
      ]
     },
     "execution_count": 10,
     "metadata": {},
     "output_type": "execute_result"
    }
   ],
   "source": [
    "perf_3tree = cross_val_nuevo(dev_x, dev_y, 5, dtree, 'acc')\n",
    "perf_3tree"
   ]
  },
  {
   "cell_type": "markdown",
   "metadata": {},
   "source": [
    "Se puede apreciar que para el arbol entrenado, la precision se encuentra alrededor del 80% aproximadamentepara los datos de entrenamiento. Asi mismo, se evidencia que para los datos de validacion se tiene una medida parecida de performance. Se procede a estimar el desempño sobre el mismo arbol, pero esta vez utilizando roc_auc:"
   ]
  },
  {
   "cell_type": "code",
   "execution_count": 12,
   "metadata": {},
   "outputs": [
    {
     "data": {
      "text/plain": [
       "([0.785, 0.778, 0.784, 0.736, 0.789], [0.759, 0.787, 0.763, 0.732, 0.727])"
      ]
     },
     "execution_count": 12,
     "metadata": {},
     "output_type": "execute_result"
    }
   ],
   "source": [
    "perf_3tree_roc = cross_val_nuevo(dev_x, dev_y, 5, dtree, 'roc')\n",
    "perf_3tree_roc"
   ]
  },
  {
   "cell_type": "markdown",
   "metadata": {},
   "source": [
    "Los resultados obtenidos utilizando esta medida son parecidos a lo obtenidos utilizando accuracy, aunque se puede apreciar que son levemente inferiores. A continuacion se calcularan las medias y los desvios estandar para todos las medidas de performance, para ello, primero se transformaran las listas en un arreglo de numpy:"
   ]
  },
  {
   "cell_type": "code",
   "execution_count": 13,
   "metadata": {},
   "outputs": [
    {
     "name": "stdout",
     "output_type": "stream",
     "text": [
      "0.79\n",
      "0.006\n",
      "0.786\n",
      "0.013\n",
      "0.774\n",
      "0.02\n",
      "0.754\n",
      "0.022\n"
     ]
    }
   ],
   "source": [
    "train_acc = np.array(perf_3tree[0])\n",
    "val_acc = np.array(perf_3tree[1])\n",
    "train_roc = np.array(perf_3tree_roc[0])\n",
    "val_roc = np.array(perf_3tree_roc[1])\n",
    "print(round(train_acc.mean(),3))\n",
    "print(round(train_acc.std(),3))\n",
    "print(round(val_acc.mean(),3))\n",
    "print(round(val_acc.std(),3))\n",
    "print(round(train_roc.mean(),3))\n",
    "print(round(train_roc.std(),3))\n",
    "print(round(val_roc.mean(),3))\n",
    "print(round(val_roc.std(),3))"
   ]
  },
  {
   "cell_type": "markdown",
   "metadata": {},
   "source": [
    "Se puede apreciar que para ambas medidas, la media es mas alta y la desviacion estandar mas baja para los datos de entrenamiento, lo que es consecuente pues el modelo se comporta mejor para los datos con los que fue entrenado. Por otro lado, tambien se evidencia que la medida de acucracy es significativamente mejor en todos los casos que el roc_auc."
   ]
  },
  {
   "cell_type": "markdown",
   "metadata": {},
   "source": [
    "### 2.2) Arboles de diferentes combinaciones\n"
   ]
  },
  {
   "cell_type": "markdown",
   "metadata": {},
   "source": [
    "Con el objetivo de tener una comparacion de desempeño al variar los hiperparametros, se procede a crear un nuevo arbol de la misma profundidad, pero esta vez utilizando como criterio information gane en lugar de Gini:"
   ]
  },
  {
   "cell_type": "code",
   "execution_count": 10,
   "metadata": {},
   "outputs": [],
   "source": [
    "dtree_ig= sk.tree.DecisionTreeClassifier(criterion = 'entropy',max_depth = 3)"
   ]
  },
  {
   "cell_type": "markdown",
   "metadata": {},
   "source": [
    "Con el nuevo arbol, se calcularan las mismas metricas obtenidas anteriormente:"
   ]
  },
  {
   "cell_type": "code",
   "execution_count": 11,
   "metadata": {},
   "outputs": [
    {
     "name": "stdout",
     "output_type": "stream",
     "text": [
      "([0.814, 0.788, 0.782, 0.79, 0.779], [0.781, 0.757, 0.797, 0.777, 0.793])\n",
      "([0.73, 0.795, 0.782, 0.777, 0.705], [0.747, 0.767, 0.777, 0.797, 0.635])\n"
     ]
    }
   ],
   "source": [
    "acc_results_ig = cross_val_nuevo(dev_x, dev_y, 5, dtree_ig, 'acc')\n",
    "roc_results_ig = cross_val_nuevo(dev_x, dev_y, 5, dtree_ig, 'roc')\n",
    "print(acc_results_ig)\n",
    "print(roc_results_ig)"
   ]
  },
  {
   "cell_type": "markdown",
   "metadata": {},
   "source": [
    "No se evidencia una diferencia significativa entre las medidas obtenidas a partir de la utiliacion de infromation gane. A continuacion se crearan dos arboles utilizando ambos criterios pero esta vez, con una altura de 6:"
   ]
  },
  {
   "cell_type": "code",
   "execution_count": 12,
   "metadata": {},
   "outputs": [],
   "source": [
    "dtree_6_gn= sk.tree.DecisionTreeClassifier(max_depth = 6)\n",
    "dtree_6_ig= sk.tree.DecisionTreeClassifier(criterion = 'entropy',max_depth = 6)"
   ]
  },
  {
   "cell_type": "markdown",
   "metadata": {},
   "source": [
    "Se calcularan ahora las metricas de costumbre, iniciando con el arbol creado utilizando GINI:"
   ]
  },
  {
   "cell_type": "code",
   "execution_count": 13,
   "metadata": {},
   "outputs": [
    {
     "name": "stdout",
     "output_type": "stream",
     "text": [
      "([0.848, 0.862, 0.859, 0.851, 0.853], [0.82, 0.761, 0.804, 0.82, 0.826])\n",
      "([0.859, 0.817, 0.851, 0.842, 0.85], [0.79, 0.768, 0.812, 0.778, 0.777])\n"
     ]
    }
   ],
   "source": [
    "acc_results_6 = cross_val_nuevo(dev_x, dev_y, 5, dtree_6_gn, 'acc')\n",
    "roc_results_6 = cross_val_nuevo(dev_x, dev_y, 5, dtree_6_gn, 'roc')\n",
    "print(acc_results_6)\n",
    "print(roc_results_6)"
   ]
  },
  {
   "cell_type": "markdown",
   "metadata": {},
   "source": [
    "Es apreciable la mejora en el desempeño para todas las metricas estudiadas, por lo que es concluible que un arbol de profundidad 6 se ajusta mejor al dataset en cuestion. Ahora se calcularan las mismas metricas para el arbol entrenado a partir de information gane:"
   ]
  },
  {
   "cell_type": "code",
   "execution_count": 14,
   "metadata": {},
   "outputs": [
    {
     "name": "stdout",
     "output_type": "stream",
     "text": [
      "([0.84, 0.847, 0.855, 0.84, 0.841], [0.815, 0.822, 0.808, 0.817, 0.822])\n",
      "([0.839, 0.821, 0.831, 0.818, 0.815], [0.808, 0.784, 0.802, 0.778, 0.792])\n"
     ]
    }
   ],
   "source": [
    "acc_results_6_ig = cross_val_nuevo(dev_x, dev_y, 5, dtree_6_ig, 'acc')\n",
    "roc_results_6_ig = cross_val_nuevo(dev_x, dev_y, 5, dtree_6_ig, 'roc')\n",
    "print(acc_results_6_ig)\n",
    "print(roc_results_6_ig)"
   ]
  },
  {
   "cell_type": "markdown",
   "metadata": {},
   "source": [
    "Se puede evidenciar como las metricas son bastante similares a las observadas con la utilizacion de GINI, sin embargo, aunque algunas tuvieron mejor desempeño, puede decirse que hay una leve mejoria con GINI. Ahora se creara un arbol sin ninguna especificacion de altura maxima para ambos criterios:"
   ]
  },
  {
   "cell_type": "code",
   "execution_count": 15,
   "metadata": {},
   "outputs": [],
   "source": [
    "dtree_max_gn= sk.tree.DecisionTreeClassifier()\n",
    "dtree_max_ig= sk.tree.DecisionTreeClassifier(criterion = 'entropy')"
   ]
  },
  {
   "cell_type": "markdown",
   "metadata": {},
   "source": [
    "De la misma manera que para el arbol anterior, se calcularan las metricas de costumbre utilizando GINI:"
   ]
  },
  {
   "cell_type": "code",
   "execution_count": 16,
   "metadata": {},
   "outputs": [
    {
     "name": "stdout",
     "output_type": "stream",
     "text": [
      "([1.0, 1.0, 1.0, 1.0, 1.0], [0.779, 0.766, 0.791, 0.764, 0.766])\n",
      "([1.0, 1.0, 1.0, 1.0, 1.0], [0.736, 0.759, 0.764, 0.714, 0.757])\n"
     ]
    }
   ],
   "source": [
    "acc_results_max = cross_val_nuevo(dev_x, dev_y, 5, dtree_max_gn, 'acc')\n",
    "roc_results_max = cross_val_nuevo(dev_x, dev_y, 5, dtree_max_gn, 'roc')\n",
    "print(acc_results_max)\n",
    "print(roc_results_max)"
   ]
  },
  {
   "cell_type": "markdown",
   "metadata": {},
   "source": [
    "Resalta el hecho de que al no especificar la profundidad, el modelo incurre en overfitting, pues predeice de manera exacta para los datos de entrenamiento enn ambas medidas, sin embargo, los puntajes para los datos de validacion son menores que los obtenidos para los arboles anteriores, por lo que pierde capacidad de prediccion."
   ]
  },
  {
   "cell_type": "markdown",
   "metadata": {},
   "source": [
    "## 2.3) Tratamiento de datos faltantes"
   ]
  },
  {
   "cell_type": "markdown",
   "metadata": {},
   "source": [
    "Para evaluar la influencia de la cantidad de datos faltantes en un data set, y la estrategia de relleno que se implemente, a continuacion se implementa la funcion outliers(data,clase, index, por, rell), que recibira el set de datos asi como la variable a predecir, el indice del atributo a modificar, un porcentaje de datos faltantes y una estrategia de de relleno que podra ser moda o clase modal, y devolvera como salida un nuevo data frame que tendra el porcentaje de datos faltantes rellenados con la estrategia de relleno:"
   ]
  },
  {
   "cell_type": "code",
   "execution_count": 17,
   "metadata": {},
   "outputs": [],
   "source": [
    "def outliers(data,clase,index, por, rell):\n",
    "    new = data.copy()\n",
    "    n = int(new.shape[0]*(por/100))\n",
    "    rand = random.sample(range(new.shape[0]), n) \n",
    "    for i in rand:\n",
    "        new.iloc[i,index] = np.nan\n",
    "    if rell == 'mode':\n",
    "        mode = int(new.iloc[:,index].mode())\n",
    "        for i in rand:\n",
    "            new.iloc[i,index] = mode\n",
    "    elif rell == 'class_mode':\n",
    "        feat = new.iloc[:,index]\n",
    "        for i in rand:\n",
    "            mode = int(feat[clase == clase.iloc[i]].mode())\n",
    "            new.iloc[i,index] = mode\n",
    "    return new"
   ]
  },
  {
   "cell_type": "markdown",
   "metadata": {},
   "source": [
    "Para las siguientes evaluaciones se utilizara el 80% de los datos de desarrollo, pues el otro 20% sera empleado en validacion:"
   ]
  },
  {
   "cell_type": "code",
   "execution_count": 18,
   "metadata": {},
   "outputs": [],
   "source": [
    "des_x, val_x, des_y, val_y = model_selection.train_test_split(dev_x,dev_y,train_size=0.8, test_size=0.2,random_state=123)"
   ]
  },
  {
   "cell_type": "markdown",
   "metadata": {},
   "source": [
    "Con lo observado anteriormente a partir de las metricas, se puede concluir que de los arboles previamente evaluados, aquel que tuvo mejor desempeño fue el construido a partir de GINI con una profundidad maxima de 6, por lo que para los siguientes analisis se utilizara dicha configuracion. Para evaluar la influencia de los datos faltantes, el proceso sera mas notorio si estos datos faltan en el atrbuto mas relevante, por lo que a continuacion se creara y entrenara un arbol con las caracteristicas previamente mencionadas para obtener el indice de dicho atributo:"
   ]
  },
  {
   "cell_type": "code",
   "execution_count": 19,
   "metadata": {},
   "outputs": [
    {
     "name": "stdout",
     "output_type": "stream",
     "text": [
      "20\n"
     ]
    }
   ],
   "source": [
    "opt_tree= sk.tree.DecisionTreeClassifier(max_depth = 6)\n",
    "opt_tree.fit(des_x,des_y)\n",
    "importance = opt_tree.feature_importances_\n",
    "index = np.argmax(importance)\n",
    "print(index)"
   ]
  },
  {
   "cell_type": "markdown",
   "metadata": {},
   "source": [
    "### 2.3 a) Ejecucion en distintos datasets"
   ]
  },
  {
   "cell_type": "markdown",
   "metadata": {},
   "source": [
    "Conociendo cual es el indice del atributo mas importante se procedera a generar una lista de datasets con diferentes cantidades de datos faltantes, desde 0 a 80% variando en intervalos de 5%, tanto para el metodo de modas como para el de modas de clase, para evaluar el desempeño de arboles entrenados con cada uno de estos datasets:"
   ]
  },
  {
   "cell_type": "code",
   "execution_count": 20,
   "metadata": {},
   "outputs": [],
   "source": [
    "list_mode = []\n",
    "list_class_mode = []\n",
    "list_mode.append(des_x.copy())\n",
    "list_class_mode.append(des_x.copy())\n",
    "for i in range(5,85,5):\n",
    "    list_mode.append(outliers(des_x,des_y,index, i, 'mode'))    \n",
    "    list_class_mode.append(outliers(des_x,des_y,index, i, 'class_mode'))"
   ]
  },
  {
   "cell_type": "markdown",
   "metadata": {},
   "source": [
    "Una vez creados los datasets, se procede a entrenar modelos con ellos para calcular el tamaño y el performance de cada uno para poder compararlos segun estas medidas:"
   ]
  },
  {
   "cell_type": "code",
   "execution_count": 21,
   "metadata": {},
   "outputs": [],
   "source": [
    "tree_size_mode = []\n",
    "acc_mode = []\n",
    "tree_size_class_mode = []\n",
    "acc_class_mode =[]\n",
    "for i in range(len(list_mode)):\n",
    "    tree_mode = sk.tree.DecisionTreeClassifier(max_depth = 6)\n",
    "    tree_mode.fit(list_mode[i],des_y)\n",
    "    tree_size_mode.append(tree_mode.tree_.node_count)\n",
    "    pred_mode = tree_mode.predict(val_x)\n",
    "    acc_mode.append(sk.metrics.accuracy_score(val_y,pred_mode))\n",
    "    tree_class_mode = sk.tree.DecisionTreeClassifier(max_depth = 6)\n",
    "    tree_class_mode.fit(list_class_mode[i],des_y)\n",
    "    tree_size_class_mode.append(tree_class_mode.tree_.node_count)\n",
    "    pred_class_mode = tree_class_mode.predict(val_x)\n",
    "    acc_class_mode.append(sk.metrics.accuracy_score(val_y,pred_class_mode)) "
   ]
  },
  {
   "cell_type": "markdown",
   "metadata": {},
   "source": [
    "### 2.3 b) Tamaño del arbol vs porcentaje de faltantes"
   ]
  },
  {
   "cell_type": "markdown",
   "metadata": {},
   "source": [
    "A continuacion se realizan las graficas del tamaño del arbol en funcion del porcentaje de faltantes tanto para los reemplazados por modo, como por clase modal, para poder pareciar el comportamiento:"
   ]
  },
  {
   "cell_type": "code",
   "execution_count": 22,
   "metadata": {},
   "outputs": [
    {
     "data": {
      "image/png": "[encoded data removed]",
      "text/plain": [
       "<Figure size 720x432 with 1 Axes>"
      ]
     },
     "metadata": {
      "needs_background": "light"
     },
     "output_type": "display_data"
    }
   ],
   "source": [
    "plt.figure(figsize=(10,6))\n",
    "plt.plot(list(range(0,85,5)), tree_size_mode)\n",
    "plt.title('Tamaño del arbol vs porcentaje de faltantes remplazados por moda')\n",
    "plt.ylabel('Tamaño del arbol')\n",
    "plt.xlabel('Porcentaje de faltantes')\n",
    "plt.show()"
   ]
  },
  {
   "cell_type": "code",
   "execution_count": 23,
   "metadata": {},
   "outputs": [
    {
     "data": {
      "image/png": "[encoded data removed]",
      "text/plain": [
       "<Figure size 720x432 with 1 Axes>"
      ]
     },
     "metadata": {
      "needs_background": "light"
     },
     "output_type": "display_data"
    }
   ],
   "source": [
    "plt.figure(figsize=(10,6))\n",
    "plt.plot(list(range(0,85,5)), tree_size_class_mode)\n",
    "plt.title('Tamaño del arbol vs porcentaje de faltantes remplazados por clase modal')\n",
    "plt.ylabel('Tamaño del arbol')\n",
    "plt.xlabel('Porcentaje de faltantes')\n",
    "plt.show()"
   ]
  },
  {
   "cell_type": "markdown",
   "metadata": {},
   "source": [
    "Aun cuando existen leves diferencias entre las graficas, se puede concluir que obedecen a la misma tendencia: a mayor porcentaje de faltantes disminuye el tamaño del arbol. "
   ]
  },
  {
   "cell_type": "markdown",
   "metadata": {},
   "source": [
    "### 2.3 c) Performance vs porcentaje de faltantes"
   ]
  },
  {
   "cell_type": "markdown",
   "metadata": {},
   "source": [
    "De igual manera, se realizan las graficas del performance en funcion del porcentaje de faltantes tanto para los reemplazados por modo, como por clase modal, para poder pareciar el comportamiento:"
   ]
  },
  {
   "cell_type": "code",
   "execution_count": 24,
   "metadata": {},
   "outputs": [
    {
     "data": {
      "image/png": "[encoded data removed]",
      "text/plain": [
       "<Figure size 720x432 with 1 Axes>"
      ]
     },
     "metadata": {
      "needs_background": "light"
     },
     "output_type": "display_data"
    }
   ],
   "source": [
    "plt.figure(figsize=(10,6))\n",
    "plt.plot(list(range(0,85,5)), acc_mode)\n",
    "plt.title('Performance vs porcentaje de faltantes remplazados por moda')\n",
    "plt.ylabel('Performance')\n",
    "plt.xlabel('Porcentaje de faltantes')\n",
    "plt.show()"
   ]
  },
  {
   "cell_type": "code",
   "execution_count": 25,
   "metadata": {},
   "outputs": [
    {
     "data": {
      "image/png": "[encoded data removed]",
      "text/plain": [
       "<Figure size 720x432 with 1 Axes>"
      ]
     },
     "metadata": {
      "needs_background": "light"
     },
     "output_type": "display_data"
    }
   ],
   "source": [
    "plt.figure(figsize=(10,6))\n",
    "plt.plot(list(range(0,85,5)), acc_class_mode)\n",
    "plt.title('Performance vs porcentaje de faltantes remplazados por clase modal')\n",
    "plt.ylabel('Performance')\n",
    "plt.xlabel('Porcentaje de faltantes')\n",
    "plt.show()"
   ]
  },
  {
   "cell_type": "markdown",
   "metadata": {},
   "source": [
    "Al igual que con el tamaño del arbol,aun cuando existen leves diferencias entre las graficas, se puede concluir que obedecen a la misma tendencia: a mayor porcentaje de faltantes disminuye el performance."
   ]
  },
  {
   "cell_type": "markdown",
   "metadata": {},
   "source": [
    "###  2.3 d) Analisis"
   ]
  },
  {
   "cell_type": "markdown",
   "metadata": {},
   "source": [
    "Los comportamientos de las graficas anteriores apuntan en la misma direccion: el arbol disminuye su capacidad para generar caminos exitosos con el incremento de ruido y por consiguiente su capacidad predecir. A pesar de ligeras diferencias, el comportamiento de ambas estrategias de relleno es bastante similar, asi que puede concluirse que es indistinto utilizar alguna de estas para el tratamiento de outliers."
   ]
  },
  {
   "cell_type": "markdown",
   "metadata": {},
   "source": [
    "## 4) Tolerancia al ruido.\n",
    "Para evaluar la influencia del ruido -cambios en los datos- sobre un atributo numero de un data set, a continacuion se implementa la funcion ind_ruido(data, index, porcentaje), que recibira el set de datos, el indice del atributo a modificar y un porcenatje de datos con ruido, y dicha funcion devolvera como slaida un nuevo data frame que tendra el porcentaje de datos con ruido:    "
   ]
  },
  {
   "cell_type": "code",
   "execution_count": 27,
   "metadata": {},
   "outputs": [],
   "source": [
    "def ind_ruido(data,index,porcentaje):\n",
    "    new=data.copy()\n",
    "    n=int(new.shape[0]*(porcentaje/100))\n",
    "    rand=random.sample(range(new.shape[0]),n)\n",
    "    for i in rand:\n",
    "        noise = np.random.normal(new.iloc[:,index].mean(),new.iloc[:,index].mean()+1000000,1)\n",
    "        valor=(new.iloc[i,index])+noise\n",
    "        new.iloc[i,index]=valor\n",
    "    return new"
   ]
  },
  {
   "cell_type": "markdown",
   "metadata": {},
   "source": [
    "Para las siguientes evaluaciones se utilizara el 80% de los datos de desarrollo, ya que el otro 20% sera empleado en validacion."
   ]
  },
  {
   "cell_type": "code",
   "execution_count": 15,
   "metadata": {},
   "outputs": [],
   "source": [
    "des_x, val_x, des_y, val_y = model_selection.train_test_split(dev_x,dev_y,train_size=0.8, test_size=0.2,random_state=123)"
   ]
  },
  {
   "cell_type": "markdown",
   "metadata": {},
   "source": [
    "Con lo observado anteriormente a partir de las metricas, se puede concluir que de los arboles previamente evaluados, aquel que tuvo mejor desempeño fue el construido a partir de GINI con una profundidad maxima de 6, por lo que para los siguientes analisis se utilizara dicha configuracion. Para evaluar la influencia del ruido en los datos, el proceso sera mas notorio si estos datos se encuentran en el atrbuto mas relevante, por lo que a continuacion se creara y entrenara un arbol con las caracteristicas previamente mencionadas para obtener el indice de dicho atributo:"
   ]
  },
  {
   "cell_type": "code",
   "execution_count": 22,
   "metadata": {},
   "outputs": [
    {
     "name": "stdout",
     "output_type": "stream",
     "text": [
      "20\n"
     ]
    }
   ],
   "source": [
    "opt_tree= sk.tree.DecisionTreeClassifier(max_depth = 6)\n",
    "opt_tree.fit(des_x,des_y)\n",
    "importance = opt_tree.feature_importances_\n",
    "index = np.argmax(importance)\n",
    "print(index)"
   ]
  },
  {
   "cell_type": "markdown",
   "metadata": {},
   "source": [
    "### 4.1) Ejecucion en diferentes datasets\n",
    "Conociendo cual es el indice del atributo mas importante se procederá a generar una lista de datasets con diferentes cantidades de ruido, desde 0 a 35%, variando en intervalos de 5%. Luego se evaluará el desempeño de arboles entrenados con cada uno de estos datasets."
   ]
  },
  {
   "cell_type": "code",
   "execution_count": 39,
   "metadata": {},
   "outputs": [],
   "source": [
    "lista= []\n",
    "lista.append(des_x.copy())\n",
    "for z in range(0,35,5):\n",
    "    a = ind_ruido(des_x,index,z)\n",
    "    lista.append(a)"
   ]
  },
  {
   "cell_type": "code",
   "execution_count": null,
   "metadata": {},
   "outputs": [],
   "source": [
    "len(lista)"
   ]
  },
  {
   "cell_type": "markdown",
   "metadata": {},
   "source": [
    "Una vez creados los datasets, se procede a entrenar modelos con ellos en pos de calcular el tamaño y la perfomance de cada uno para poder comprarlos segun dichas metricas."
   ]
  },
  {
   "cell_type": "code",
   "execution_count": null,
   "metadata": {},
   "outputs": [],
   "source": [
    "noise = np.random.normal(des_x.iloc[:,index].mean(),des_x.iloc[:,index].mean()+100000,1)\n",
    "print(noise)\n",
    "print(des_x.iloc[:,index].mean())\n",
    "print(lista[0].iloc[:,index].mean())\n",
    "print(lista[1].iloc[:,index].mean())\n",
    "print(lista[2].iloc[:,index].mean())\n",
    "print(lista[3].iloc[:,index].mean())\n",
    "print(lista[0].iloc[:,index].std())\n",
    "print(lista[1].iloc[:,index].std())\n",
    "print(lista[2].iloc[:,index].std())\n",
    "print(lista[3].iloc[:,index].std())"
   ]
  },
  {
   "cell_type": "markdown",
   "metadata": {},
   "source": [
    "### 4.2) Tamaño del arbol vs porcentaje de ruido\n",
    "A continuacion se realizan las graficas del tamaño del arbol en funcion del porcentaje de ruido, en pos de apreciar el comportamiento:"
   ]
  },
  {
   "cell_type": "code",
   "execution_count": null,
   "metadata": {},
   "outputs": [],
   "source": [
    "tree_size_noyse = []\n",
    "acc_noyse = []\n",
    "for i in range(len(lista)):\n",
    "    tree_noyse = sk.tree.DecisionTreeClassifier(max_depth = 6)\n",
    "    tree_noyse.fit(lista[i],des_y)\n",
    "    tree_size_noyse.append(tree_noyse.tree_.node_count)\n",
    "    pred_noyse = tree_noyse.predict(val_x)\n",
    "    acc_noyse.append(sk.metrics.accuracy_score(val_y,pred_noyse))\n",
    "\n",
    "    "
   ]
  },
  {
   "cell_type": "code",
   "execution_count": 68,
   "metadata": {},
   "outputs": [
    {
     "data": {
      "text/plain": [
       "[47, 47, 73, 77, 61, 87, 77, 77]"
      ]
     },
     "execution_count": 68,
     "metadata": {},
     "output_type": "execute_result"
    }
   ],
   "source": [
    "tree_size_noyse"
   ]
  },
  {
   "cell_type": "code",
   "execution_count": 69,
   "metadata": {},
   "outputs": [
    {
     "data": {
      "text/plain": [
       "[0.822262118491921,\n",
       " 0.8276481149012568,\n",
       " 0.7953321364452424,\n",
       " 0.8096947935368043,\n",
       " 0.7917414721723519,\n",
       " 0.8061041292639138,\n",
       " 0.8025134649910234,\n",
       " 0.7827648114901257]"
      ]
     },
     "execution_count": 69,
     "metadata": {},
     "output_type": "execute_result"
    }
   ],
   "source": [
    "acc_noyse"
   ]
  },
  {
   "cell_type": "markdown",
   "metadata": {},
   "source": [
    "### 4.3) Perfomance vs porcentaje de ruido\n",
    "De igual manera, se realiza el grafico de la perfomance en funcion del porcentaje del ruido, en pos de apreciar el comportamiento:"
   ]
  },
  {
   "cell_type": "code",
   "execution_count": 66,
   "metadata": {},
   "outputs": [
    {
     "data": {
      "image/png": "[encoded data removed]",
      "text/plain": [
       "<Figure size 432x288 with 1 Axes>"
      ]
     },
     "metadata": {
      "needs_background": "light"
     },
     "output_type": "display_data"
    }
   ],
   "source": [
    "plt.figure(figsize=(10,6))\n",
    "#plt.plot(list(range(0,35,5)), tree_size_noyse)\n",
    "plt.plot(tree_size_noyse)\n",
    "#plt.plot(list(rango), tree_size_noyse)\n",
    "plt.title('Tamaño del arbol vs porcentaje de ruido')\n",
    "plt.ylabel('Tamaño del arbol')\n",
    "plt.xlabel('Porcentaje de ruido')\n",
    "plt.show()"
   ]
  },
  {
   "cell_type": "code",
   "execution_count": null,
   "metadata": {},
   "outputs": [],
   "source": [
    "plt.figure(figsize=(10,6))\n",
    "plt.plot(list(range(0,35,5)), acc_noyse)\n",
    "plt.title('Performance vs porcentaje del ruido')\n",
    "plt.ylabel('Performance')\n",
    "plt.xlabel('Porcentaje de ruido')\n",
    "plt.show()"
   ]
  },
  {
   "cell_type": "markdown",
   "metadata": {},
   "source": [
    "### 4.4) Análisis\n",
    "Como se puede apreciar en los graficos expuestos en los incisos 4.2 y 4.3, conforme aumenta el ruido en el atributo mas importante, aumenta el temaño del arbol denotando una relacion directa entre estas dos variables. A si mismo, se puede apreciar que incluso cuando el porcteaje de ruido en el atributo mas importante se incrementa, la perfomance del algoritmo,y por lo tanto, su capacidad de prediccion, se mantiene en niveles del orden del 78%."
   ]
  },
  {
   "cell_type": "markdown",
   "metadata": {},
   "source": [
    "## 3) Naive Bayes"
   ]
  },
  {
   "cell_type": "markdown",
   "metadata": {},
   "source": [
    "Al ser Naive Bayes otro de los algoritmos utilizados con frecuencia para los problemas de clasificacion, se procede a implementarlo para comparar su comportamiento con el obtenido a partir de los arboles de decision. A continuacion se crearan distintos objetos naive_bayes que obedecen a distintas distribuciones de probabilidad y se aplicara la funcion previamente implementada para hacer cross validations con el objetivo de escoger la distribucion que mejor se ajuste a los datos: "
   ]
  },
  {
   "cell_type": "code",
   "execution_count": 51,
   "metadata": {},
   "outputs": [
    {
     "name": "stdout",
     "output_type": "stream",
     "text": [
      "([0.826, 0.822, 0.823, 0.817, 0.815], [0.801, 0.814, 0.81, 0.835, 0.843])\n",
      "([0.48, 0.491, 0.502, 0.497, 0.496], [0.546, 0.503, 0.46, 0.48, 0.481])\n",
      "([0.495, 0.49, 0.492, 0.492, 0.5], [0.487, 0.506, 0.505, 0.504, 0.466])\n",
      "([0.539, 0.518, 0.508, 0.537, 0.584], [0.545, 0.507, 0.496, 0.524, 0.527])\n"
     ]
    }
   ],
   "source": [
    "bayes_bern = sk.naive_bayes.BernoulliNB()\n",
    "bayes_compl = sk.naive_bayes.ComplementNB()\n",
    "bayes_mult = sk.naive_bayes.MultinomialNB()\n",
    "bayes_gau= sk.naive_bayes.GaussianNB()\n",
    "list_bayes = [bayes_bern, bayes_compl, bayes_mult, bayes_gau]\n",
    "for i in list_bayes:\n",
    "    print(cross_val_nuevo(dev_x, dev_y, 5, i, 'roc'))"
   ]
  },
  {
   "cell_type": "markdown",
   "metadata": {},
   "source": [
    "A travez de las evaluaciones, se puede concluir que la mejor distribucion es la de bernoulli, lo que tendria sentido pues el atributo a predecir es binario. A continuacion se procede a entrenar un arbol del tipo bernoulli y a informar sus probabilidades previas y condicionales:"
   ]
  },
  {
   "cell_type": "code",
   "execution_count": 27,
   "metadata": {},
   "outputs": [
    {
     "name": "stdout",
     "output_type": "stream",
     "text": [
      "[0.32386772 0.67613228]\n",
      "[[0.99889258 0.99889258 0.99889258 0.99889258 0.99889258 0.00110742\n",
      "  0.99889258 0.99889258 0.99889258 0.99889258 0.99889258 0.96899225\n",
      "  0.99889258 0.99889258 0.99889258 0.99889258 0.99889258 0.99889258\n",
      "  0.99889258 0.99889258 0.00110742 0.99889258 0.99889258 0.99889258\n",
      "  0.99889258 0.99889258 0.99889258 0.99889258 0.99889258]\n",
      " [0.99946893 0.99946893 0.99946893 0.99946893 0.99946893 0.11949018\n",
      "  0.99946893 0.99946893 0.99946893 0.99946893 0.99946893 0.9755709\n",
      "  0.99946893 0.99946893 0.99946893 0.99946893 0.99946893 0.99946893\n",
      "  0.99946893 0.99946893 0.62506638 0.99946893 0.99946893 0.99946893\n",
      "  0.99946893 0.99946893 0.99946893 0.99946893 0.99946893]]\n"
     ]
    }
   ],
   "source": [
    "bayes_bern.fit(dev_x,dev_y)\n",
    "prob_prev = np.exp(bayes_bern.class_log_prior_)\n",
    "print(prob_prev)\n",
    "prob_feat = np.exp(bayes_bern.feature_log_prob_)\n",
    "print(prob_feat)"
   ]
  },
  {
   "cell_type": "markdown",
   "metadata": {},
   "source": [
    "## 4) Comparacion de algoritmos"
   ]
  },
  {
   "cell_type": "markdown",
   "metadata": {},
   "source": [
    "Ahora que conocemos el desempeño de ambos algoritmos, se pocedera a realizar una evualuacion y comparacion de estos utilizando los datos de testeo. Inicialmente debemos crear y entrenar el modelo de mejor desempeño en cada caso utilizando el set de entrenamiento. En el caso de arboles de decision, para encontrar los parametro de dicho arbol se empleara GridSearchCV:"
   ]
  },
  {
   "cell_type": "code",
   "execution_count": 34,
   "metadata": {},
   "outputs": [
    {
     "name": "stderr",
     "output_type": "stream",
     "text": [
      "/home/juan/anaconda3/lib/python3.7/site-packages/sklearn/model_selection/_split.py:2053: FutureWarning: You should specify a value for 'cv' instead of relying on the default value. The default value will change from 3 to 5 in version 0.22.\n",
      "  warnings.warn(CV_WARNING, FutureWarning)\n"
     ]
    },
    {
     "data": {
      "text/plain": [
       "{'criterion': 'entropy', 'max_depth': 6}"
      ]
     },
     "execution_count": 34,
     "metadata": {},
     "output_type": "execute_result"
    }
   ],
   "source": [
    "param = {'max_depth': np.arange(1, 30),'criterion' : ('entropy','gini')}\n",
    "tree = sk.model_selection.GridSearchCV(sk.tree.DecisionTreeClassifier(), param)\n",
    "tree.fit(dev_x, dev_y)\n",
    "tree.best_params_"
   ]
  },
  {
   "cell_type": "markdown",
   "metadata": {},
   "source": [
    "Tal como el analisis previo lo habia mostrado, la mejor profundiad es 6 y al mejor metodo es entropy. Puesto que previamente se demostro que el mejor tipo de naive bayes es el de la distribucion bernoulli, se utilizara este modelo y el arbol con los hiperparametros encontrados para realizar las validaciones correspondientes utilizando ROC AUC comomtrica, asi como calcular las medias y los desvios de los resultados para volverlos comparables:"
   ]
  },
  {
   "cell_type": "code",
   "execution_count": 57,
   "metadata": {},
   "outputs": [
    {
     "name": "stdout",
     "output_type": "stream",
     "text": [
      "[0.828, 0.7914000000000001] [0.004335896677735764, 0.023474241201793932] \n",
      " [0.8204, 0.8203999999999999] [0.0016248076809271936, 0.006711184694224975]\n"
     ]
    }
   ],
   "source": [
    "tree = sk.tree.DecisionTreeClassifier(criterion = 'entropy', max_depth = 6)\n",
    "bayes = sk.naive_bayes.BernoulliNB()\n",
    "tree_scores = cross_val_nuevo(dev_x, dev_y, 5, tree, 'roc')\n",
    "bayes_scores = cross_val_nuevo(dev_x, dev_y, 5, bayes, 'roc')\n",
    "tree_means = [np.array(tree_scores[0]).mean(),np.array(tree_scores[1]).mean()]\n",
    "tree_sd = [np.array(tree_scores[0]).std(),np.array(tree_scores[1]).std()]\n",
    "bayes_means = [np.array(bayes_scores[0]).mean(),np.array(bayes_scores[1]).mean()]\n",
    "bayes_sd = [np.array(bayes_scores[0]).std(),np.array(bayes_scores[1]).std()]\n",
    "print(tree_means, tree_sd,'\\n', bayes_means, bayes_sd)"
   ]
  },
  {
   "cell_type": "markdown",
   "metadata": {},
   "source": [
    "Es apreciable que ambos modelos presentan buenas medidas de desempeño, pero aun cuando el comportamiento para los casos de entrenamiento es bastante parecido, se puede avidenciar que para los casos de validacion el algoritmo de naive_bayes tiene una media mas alta y un menor desvio. A continuacion se procede entrenar los modelos ya evaluar su desempeño con set de testeo:"
   ]
  },
  {
   "cell_type": "code",
   "execution_count": 58,
   "metadata": {},
   "outputs": [
    {
     "name": "stdout",
     "output_type": "stream",
     "text": [
      "0.8060438755069136 0.8154639175257732\n"
     ]
    }
   ],
   "source": [
    "tree.fit(dev_x, dev_y)\n",
    "tree_pred = tree.predict(test_x)\n",
    "bayes.fit(dev_x, dev_y)\n",
    "bayes_pred = bayes.predict(test_x)\n",
    "perf_tree = sk.metrics.roc_auc_score(test_y,tree_pred)\n",
    "perf_bayes = sk.metrics.roc_auc_score(test_y,bayes_pred)\n",
    "print(perf_tree,perf_bayes)"
   ]
  },
  {
   "cell_type": "markdown",
   "metadata": {},
   "source": [
    "Tal y como se esperaba, ambas modelos tuvieron buenas medidas de desempeño, siendo la obtenida por naive bayes mejor que aquella del arbol de decision."
   ]
  }
 ],
 "metadata": {
  "kernelspec": {
   "display_name": "Python 3",
   "language": "python",
   "name": "python3"
  },
  "language_info": {
   "codemirror_mode": {
    "name": "ipython",
    "version": 3
   },
   "file_extension": ".py",
   "mimetype": "text/x-python",
   "name": "python",
   "nbconvert_exporter": "python",
   "pygments_lexer": "ipython3",
   "version": "3.7.1"
  },
  "toc": {
   "base_numbering": 1,
   "nav_menu": {},
   "number_sections": true,
   "sideBar": true,
   "skip_h1_title": false,
   "title_cell": "Table of Contents",
   "title_sidebar": "Contents",
   "toc_cell": false,
   "toc_position": {},
   "toc_section_display": true,
   "toc_window_display": false
  }
 },
 "nbformat": 4,
 "nbformat_minor": 2
}

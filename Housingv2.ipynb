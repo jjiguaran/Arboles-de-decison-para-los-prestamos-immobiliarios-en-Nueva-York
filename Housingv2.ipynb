{
 "cells": [
  {
   "cell_type": "markdown",
   "metadata": {},
   "source": [
    "# Trabajo practico 1: Clasificiones con Decision Trees y Naive Bayes\n",
    "### Integrantes: Rodrigo Mauriño, Martin Llada, Juan Jose Iguaran"
   ]
  },
  {
   "cell_type": "markdown",
   "metadata": {},
   "source": [
    "La base de datos consiste en informacion sobre creditos para vivivienda en el estado de Nueva York, EE.UU. y el objetivo del ejercicio es lograr entrenar modelos clasificatorios que permitan predecir si el aplicante n, dados los valores de los atributos X, es elegible para el credito.  <br> Para proceder a entrenar los modelos clasificatorios, es necesario alistar el framework mediante la importacion de las librerias necesarias:"
   ]
  },
  {
   "cell_type": "code",
   "execution_count": 6,
   "metadata": {},
   "outputs": [],
   "source": [
    "import os\n",
    "import pandas as pd \n",
    "import numpy as np\n",
    "import sklearn as sk\n",
    "import random\n",
    "from sklearn import model_selection\n",
    "from sklearn import tree\n",
    "import matplotlib.pyplot as plt"
   ]
  },
  {
   "cell_type": "markdown",
   "metadata": {},
   "source": [
    "Una vez importadas las librerias, es necesario importar el dataset a ser utlizado, asi como una pequeña visualizacion del mismo:"
   ]
  },
  {
   "cell_type": "code",
   "execution_count": 7,
   "metadata": {},
   "outputs": [
    {
     "data": {
      "text/html": [
       "<div>\n",
       "<style scoped>\n",
       "    .dataframe tbody tr th:only-of-type {\n",
       "        vertical-align: middle;\n",
       "    }\n",
       "\n",
       "    .dataframe tbody tr th {\n",
       "        vertical-align: top;\n",
       "    }\n",
       "\n",
       "    .dataframe thead th {\n",
       "        text-align: right;\n",
       "    }\n",
       "</style>\n",
       "<table border=\"1\" class=\"dataframe\">\n",
       "  <thead>\n",
       "    <tr style=\"text-align: right;\">\n",
       "      <th></th>\n",
       "      <th>action_taken</th>\n",
       "      <th>agency_code</th>\n",
       "      <th>applicant_ethnicity</th>\n",
       "      <th>applicant_income_000s</th>\n",
       "      <th>applicant_race_1</th>\n",
       "      <th>applicant_sex</th>\n",
       "      <th>application_date_indicator</th>\n",
       "      <th>census_tract_number</th>\n",
       "      <th>co_applicant_ethnicity</th>\n",
       "      <th>co_applicant_race_1</th>\n",
       "      <th>...</th>\n",
       "      <th>property_type</th>\n",
       "      <th>purchaser_type</th>\n",
       "      <th>sequence_number</th>\n",
       "      <th>hud_median_family_income</th>\n",
       "      <th>loan_amount_000s</th>\n",
       "      <th>number_of_1_to_4_family_units</th>\n",
       "      <th>number_of_owner_occupied_units</th>\n",
       "      <th>minority_population</th>\n",
       "      <th>population</th>\n",
       "      <th>tract_to_msamd_income</th>\n",
       "    </tr>\n",
       "  </thead>\n",
       "  <tbody>\n",
       "    <tr>\n",
       "      <th>0</th>\n",
       "      <td>1</td>\n",
       "      <td>9</td>\n",
       "      <td>3</td>\n",
       "      <td>230.0</td>\n",
       "      <td>6</td>\n",
       "      <td>3</td>\n",
       "      <td>0</td>\n",
       "      <td>319.00</td>\n",
       "      <td>5</td>\n",
       "      <td>8</td>\n",
       "      <td>...</td>\n",
       "      <td>1</td>\n",
       "      <td>0</td>\n",
       "      <td>155085</td>\n",
       "      <td>82700.0</td>\n",
       "      <td>159</td>\n",
       "      <td>2414.0</td>\n",
       "      <td>2077.0</td>\n",
       "      <td>14.770000</td>\n",
       "      <td>7442.0</td>\n",
       "      <td>138.440002</td>\n",
       "    </tr>\n",
       "    <tr>\n",
       "      <th>1</th>\n",
       "      <td>1</td>\n",
       "      <td>7</td>\n",
       "      <td>1</td>\n",
       "      <td>66.0</td>\n",
       "      <td>6</td>\n",
       "      <td>1</td>\n",
       "      <td>0</td>\n",
       "      <td>602.02</td>\n",
       "      <td>3</td>\n",
       "      <td>5</td>\n",
       "      <td>...</td>\n",
       "      <td>2</td>\n",
       "      <td>0</td>\n",
       "      <td>37462</td>\n",
       "      <td>95200.0</td>\n",
       "      <td>47</td>\n",
       "      <td>1422.0</td>\n",
       "      <td>1298.0</td>\n",
       "      <td>19.690001</td>\n",
       "      <td>3997.0</td>\n",
       "      <td>85.000000</td>\n",
       "    </tr>\n",
       "    <tr>\n",
       "      <th>3</th>\n",
       "      <td>1</td>\n",
       "      <td>5</td>\n",
       "      <td>2</td>\n",
       "      <td>174.0</td>\n",
       "      <td>5</td>\n",
       "      <td>1</td>\n",
       "      <td>0</td>\n",
       "      <td>502.03</td>\n",
       "      <td>2</td>\n",
       "      <td>5</td>\n",
       "      <td>...</td>\n",
       "      <td>1</td>\n",
       "      <td>0</td>\n",
       "      <td>20</td>\n",
       "      <td>95200.0</td>\n",
       "      <td>40</td>\n",
       "      <td>1723.0</td>\n",
       "      <td>1578.0</td>\n",
       "      <td>17.639999</td>\n",
       "      <td>4971.0</td>\n",
       "      <td>119.169998</td>\n",
       "    </tr>\n",
       "    <tr>\n",
       "      <th>4</th>\n",
       "      <td>1</td>\n",
       "      <td>9</td>\n",
       "      <td>2</td>\n",
       "      <td>100.0</td>\n",
       "      <td>5</td>\n",
       "      <td>2</td>\n",
       "      <td>0</td>\n",
       "      <td>195.00</td>\n",
       "      <td>5</td>\n",
       "      <td>8</td>\n",
       "      <td>...</td>\n",
       "      <td>1</td>\n",
       "      <td>0</td>\n",
       "      <td>12370</td>\n",
       "      <td>71300.0</td>\n",
       "      <td>378</td>\n",
       "      <td>615.0</td>\n",
       "      <td>738.0</td>\n",
       "      <td>60.779999</td>\n",
       "      <td>3366.0</td>\n",
       "      <td>78.169998</td>\n",
       "    </tr>\n",
       "    <tr>\n",
       "      <th>5</th>\n",
       "      <td>1</td>\n",
       "      <td>7</td>\n",
       "      <td>2</td>\n",
       "      <td>155.0</td>\n",
       "      <td>5</td>\n",
       "      <td>1</td>\n",
       "      <td>0</td>\n",
       "      <td>3037.00</td>\n",
       "      <td>2</td>\n",
       "      <td>5</td>\n",
       "      <td>...</td>\n",
       "      <td>1</td>\n",
       "      <td>1</td>\n",
       "      <td>143</td>\n",
       "      <td>109000.0</td>\n",
       "      <td>352</td>\n",
       "      <td>2008.0</td>\n",
       "      <td>2041.0</td>\n",
       "      <td>22.570000</td>\n",
       "      <td>6718.0</td>\n",
       "      <td>87.589996</td>\n",
       "    </tr>\n",
       "  </tbody>\n",
       "</table>\n",
       "<p>5 rows × 30 columns</p>\n",
       "</div>"
      ],
      "text/plain": [
       "   action_taken  agency_code  applicant_ethnicity  applicant_income_000s  \\\n",
       "0             1            9                    3                  230.0   \n",
       "1             1            7                    1                   66.0   \n",
       "3             1            5                    2                  174.0   \n",
       "4             1            9                    2                  100.0   \n",
       "5             1            7                    2                  155.0   \n",
       "\n",
       "   applicant_race_1  applicant_sex  application_date_indicator  \\\n",
       "0                 6              3                           0   \n",
       "1                 6              1                           0   \n",
       "3                 5              1                           0   \n",
       "4                 5              2                           0   \n",
       "5                 5              1                           0   \n",
       "\n",
       "   census_tract_number  co_applicant_ethnicity  co_applicant_race_1  \\\n",
       "0               319.00                       5                    8   \n",
       "1               602.02                       3                    5   \n",
       "3               502.03                       2                    5   \n",
       "4               195.00                       5                    8   \n",
       "5              3037.00                       2                    5   \n",
       "\n",
       "           ...            property_type  purchaser_type sequence_number  \\\n",
       "0          ...                        1               0          155085   \n",
       "1          ...                        2               0           37462   \n",
       "3          ...                        1               0              20   \n",
       "4          ...                        1               0           12370   \n",
       "5          ...                        1               1             143   \n",
       "\n",
       "   hud_median_family_income  loan_amount_000s  number_of_1_to_4_family_units  \\\n",
       "0                   82700.0               159                         2414.0   \n",
       "1                   95200.0                47                         1422.0   \n",
       "3                   95200.0                40                         1723.0   \n",
       "4                   71300.0               378                          615.0   \n",
       "5                  109000.0               352                         2008.0   \n",
       "\n",
       "   number_of_owner_occupied_units  minority_population  population  \\\n",
       "0                          2077.0            14.770000      7442.0   \n",
       "1                          1298.0            19.690001      3997.0   \n",
       "3                          1578.0            17.639999      4971.0   \n",
       "4                           738.0            60.779999      3366.0   \n",
       "5                          2041.0            22.570000      6718.0   \n",
       "\n",
       "   tract_to_msamd_income  \n",
       "0             138.440002  \n",
       "1              85.000000  \n",
       "3             119.169998  \n",
       "4              78.169998  \n",
       "5              87.589996  \n",
       "\n",
       "[5 rows x 30 columns]"
      ]
     },
     "execution_count": 7,
     "metadata": {},
     "output_type": "execute_result"
    }
   ],
   "source": [
    "data = pd.read_csv(\"baseclean.csv\")\n",
    "dataf=data\n",
    "dataf=dataf.dropna()\n",
    "dataf.head()"
   ]
  },
  {
   "cell_type": "markdown",
   "metadata": {},
   "source": [
    "Puesto que una delas variables, especificamente, el nombre del condado es un string, se procede a realizar una transformacion en numerica mediante label_encoder y luego reemplazar los valores originales por los obtenidos a partir de la transformacion para poder ejecutar el algoritmo. Asi mismo, es necesario transformar la variable objetivo action_taken en binario para poder luego calcular medidas de desempeño, asi que se procede a utilizar LabelBinarizer con este objetivo:"
   ]
  },
  {
   "cell_type": "code",
   "execution_count": 8,
   "metadata": {},
   "outputs": [
    {
     "name": "stderr",
     "output_type": "stream",
     "text": [
      "/home/juan/anaconda3/lib/python3.7/site-packages/pandas/core/indexing.py:543: SettingWithCopyWarning: \n",
      "A value is trying to be set on a copy of a slice from a DataFrame.\n",
      "Try using .loc[row_indexer,col_indexer] = value instead\n",
      "\n",
      "See the caveats in the documentation: http://pandas.pydata.org/pandas-docs/stable/indexing.html#indexing-view-versus-copy\n",
      "  self.obj[item] = s\n"
     ]
    }
   ],
   "source": [
    "values = np.array(dataf[\"county_name\"])\n",
    "integer_encoded = sk.preprocessing.LabelEncoder().fit_transform(values)\n",
    "dataf.loc[:,\"county_name\"]=integer_encoded\n",
    "lb = sk.preprocessing.LabelBinarizer()\n",
    "lb.fit(dataf[\"action_taken\"])\n",
    "target_encoded =lb.transform(dataf[\"action_taken\"])"
   ]
  },
  {
   "cell_type": "markdown",
   "metadata": {},
   "source": [
    "## 1) Particion de datos\n",
    "Ahora que los datos se encuentran en un formato apto para el modelo, se procede a ejecutar su particion. Esta particion tendra como varible objetivo la decision tomada, y como parametros las demas columnas. Consistira en un 80% de los datos para desarrollo y en un 20% para test; los datos de desarrollo seran particionados a su vez en un 80% :"
   ]
  },
  {
   "cell_type": "code",
   "execution_count": 9,
   "metadata": {},
   "outputs": [],
   "source": [
    "X=dataf.iloc[:,1:]\n",
    "Y=target_encoded\n",
    "dev_x, test_x, dev_y, test_y = model_selection.train_test_split(X,Y,train_size=0.8, test_size=0.2,random_state=123)\n",
    "train_X, val_X, train_y, val_y = model_selection.train_test_split(dev_x, dev_y,train_size=0.8, test_size=0.2,random_state=123)\n"
   ]
  },
  {
   "cell_type": "markdown",
   "metadata": {},
   "source": [
    "## 2) Arboles de decision"
   ]
  },
  {
   "cell_type": "markdown",
   "metadata": {},
   "source": [
    "### 2.1) Arbol de altura 3"
   ]
  },
  {
   "cell_type": "markdown",
   "metadata": {},
   "source": [
    "Se procede a crear un objeto tipo DecisionTreeClassifier con altura maxima altura 3 manteniendo el resto de los hiperparametros en su valor preestablecido, para luego entrenar dicho objeto con las particiones previamente definidas:"
   ]
  },
  {
   "cell_type": "code",
   "execution_count": 10,
   "metadata": {},
   "outputs": [
    {
     "data": {
      "text/plain": [
       "DecisionTreeClassifier(class_weight=None, criterion='gini', max_depth=3,\n",
       "            max_features=None, max_leaf_nodes=None,\n",
       "            min_impurity_decrease=0.0, min_impurity_split=None,\n",
       "            min_samples_leaf=1, min_samples_split=2,\n",
       "            min_weight_fraction_leaf=0.0, presort=False, random_state=None,\n",
       "            splitter='best')"
      ]
     },
     "execution_count": 10,
     "metadata": {},
     "output_type": "execute_result"
    }
   ],
   "source": [
    "dtree= sk.tree.DecisionTreeClassifier(max_depth = 3)\n",
    "dtree.fit(train_X, train_y)"
   ]
  },
  {
   "cell_type": "markdown",
   "metadata": {},
   "source": [
    "Una vez entrenado el modelo, se procede a estimar el desempeño del modelo utilizando 5-fold cross validation:"
   ]
  },
  {
   "cell_type": "code",
   "execution_count": 11,
   "metadata": {},
   "outputs": [
    {
     "data": {
      "text/plain": [
       "array([0.51685393, 0.56853933, 0.51011236, 0.51460674, 0.53932584])"
      ]
     },
     "execution_count": 11,
     "metadata": {},
     "output_type": "execute_result"
    }
   ],
   "source": [
    "acc_results_train = model_selection.cross_val_score(dtree, train_X, train_y, cv=5, scoring='accuracy')\n",
    "acc_results_train"
   ]
  },
  {
   "cell_type": "markdown",
   "metadata": {},
   "source": [
    "Se puede apreciar que para el arbol entrenado, la precision se encuentra alrededor del 53% aproximadamente. A continuacion se procede a calcular el ROC AUC para el conjunto de entrenamiento:"
   ]
  },
  {
   "cell_type": "code",
   "execution_count": 12,
   "metadata": {},
   "outputs": [
    {
     "data": {
      "text/plain": [
       "array([0.8172852 , 0.84062506, 0.82735774, 0.81580466, 0.8275785 ])"
      ]
     },
     "execution_count": 12,
     "metadata": {},
     "output_type": "execute_result"
    }
   ],
   "source": [
    "roc_results_train = model_selection.cross_val_score(dtree, train_X, train_y, cv=5, scoring='roc_auc')\n",
    "roc_results_train"
   ]
  },
  {
   "cell_type": "markdown",
   "metadata": {},
   "source": [
    "Los puntajes obtenidos utilizando roc_auc son superiores a los obtenidos por precision pues se encuentran alrededor del 82%. A continuacion se calcularan las mismas medidas de desempeño utilizando los datos de validacion:"
   ]
  },
  {
   "cell_type": "code",
   "execution_count": 13,
   "metadata": {},
   "outputs": [
    {
     "name": "stdout",
     "output_type": "stream",
     "text": [
      "[0.51785714 0.50892857 0.56756757 0.34234234 0.48648649]\n",
      "[0.8347996  0.80391271 0.82713007 0.7817283  0.79322964]\n"
     ]
    }
   ],
   "source": [
    "acc_results_val = model_selection.cross_val_score(dtree, val_X, val_y, cv=5, scoring='accuracy')\n",
    "roc_results_val = model_selection.cross_val_score(dtree, val_X, val_y, cv=5, scoring='roc_auc')\n",
    "print(acc_results_val)\n",
    "print(roc_results_val)"
   ]
  },
  {
   "cell_type": "markdown",
   "metadata": {},
   "source": [
    "Es evidente que los valores para amba medidas son muy parecidas a las obtenidas con el set de entrenamiento, por lo que puede concluirse que no se incurrio en overfitting. Se procede a calcular la media y la desviacion estandar de los distintos folds para la precision, tanto para los datos de validacion, como para los de entrenamiento:"
   ]
  },
  {
   "cell_type": "code",
   "execution_count": 14,
   "metadata": {},
   "outputs": [
    {
     "name": "stdout",
     "output_type": "stream",
     "text": [
      "0.5298876404494381\n",
      "0.02180585972262149\n",
      "0.48463642213642216\n",
      "0.07592407729765481\n"
     ]
    }
   ],
   "source": [
    "print(acc_results_train.mean())\n",
    "print(acc_results_train.std())\n",
    "print(acc_results_val.mean())\n",
    "print(acc_results_val.std())"
   ]
  },
  {
   "cell_type": "markdown",
   "metadata": {},
   "source": [
    "Es evidenciable como las medidas de entrenamiento poseen una mayor media y una menor desviacion estandar, lo que es logico pues para el conjunto de validacion, lo errado de la prediccion asi como la dispercion de la misma es mayor que para el conjunto con el cual se entrenaron los datos. Ahora se realizaran las mismas metricas con los datos obtenidos para ROC AUC:"
   ]
  },
  {
   "cell_type": "code",
   "execution_count": 15,
   "metadata": {},
   "outputs": [
    {
     "name": "stdout",
     "output_type": "stream",
     "text": [
      "0.8257302327150828\n",
      "0.0089191519689019\n",
      "0.8081600665120069\n",
      "0.020045556978103507\n"
     ]
    }
   ],
   "source": [
    "print(roc_results_train.mean())\n",
    "print(roc_results_train.std())\n",
    "print(roc_results_val.mean())\n",
    "print(roc_results_val.std())"
   ]
  },
  {
   "cell_type": "markdown",
   "metadata": {},
   "source": [
    "Se observa el mismo patron que el observado en precision: mayor media y menor desvio, comportamiento que obedece a lo anteriormente explicado."
   ]
  },
  {
   "cell_type": "markdown",
   "metadata": {},
   "source": [
    "### 2.2) Arboles de diferentes combinaciones\n"
   ]
  },
  {
   "cell_type": "markdown",
   "metadata": {},
   "source": [
    "Con el objetivo de tener una comparacion de desempeño al variar los hiperparametros, se procede a entrenar un nuevo arbol de la misma profundidad, pero esta vez utilizando como criterio information gane en lugar de Gini:"
   ]
  },
  {
   "cell_type": "code",
   "execution_count": 16,
   "metadata": {},
   "outputs": [
    {
     "data": {
      "text/plain": [
       "DecisionTreeClassifier(class_weight=None, criterion='entropy', max_depth=3,\n",
       "            max_features=None, max_leaf_nodes=None,\n",
       "            min_impurity_decrease=0.0, min_impurity_split=None,\n",
       "            min_samples_leaf=1, min_samples_split=2,\n",
       "            min_weight_fraction_leaf=0.0, presort=False, random_state=None,\n",
       "            splitter='best')"
      ]
     },
     "execution_count": 16,
     "metadata": {},
     "output_type": "execute_result"
    }
   ],
   "source": [
    "dtree_ig= sk.tree.DecisionTreeClassifier(criterion = 'entropy',max_depth = 3)\n",
    "dtree_ig.fit(train_X, train_y)"
   ]
  },
  {
   "cell_type": "markdown",
   "metadata": {},
   "source": [
    "Con el nuevo arbol, se calcularan las mismas metricas obtenidas anteriormente:"
   ]
  },
  {
   "cell_type": "code",
   "execution_count": 17,
   "metadata": {},
   "outputs": [
    {
     "name": "stdout",
     "output_type": "stream",
     "text": [
      "[0.51685393 0.56853933 0.54382022 0.51460674 0.53932584]\n",
      "[0.8172852  0.84062506 0.83400958 0.81580466 0.8275785 ]\n",
      "[0.39285714 0.50892857 0.56756757 0.34234234 0.48648649]\n",
      "[0.80880457 0.80391271 0.82713007 0.7817283  0.79322964]\n"
     ]
    }
   ],
   "source": [
    "acc_results_train_ig = model_selection.cross_val_score(dtree_ig, train_X, train_y, cv=5, scoring='accuracy')\n",
    "roc_results_train_ig = model_selection.cross_val_score(dtree_ig, train_X, train_y, cv=5, scoring='roc_auc')\n",
    "acc_results_val_ig = model_selection.cross_val_score(dtree_ig, val_X, val_y, cv=5, scoring='accuracy')\n",
    "roc_results_val_ig = model_selection.cross_val_score(dtree_ig, val_X, val_y, cv=5, scoring='roc_auc')\n",
    "print(acc_results_train_ig)\n",
    "print(roc_results_train_ig)\n",
    "print(acc_results_val_ig)\n",
    "print(roc_results_val_ig)"
   ]
  },
  {
   "cell_type": "markdown",
   "metadata": {},
   "source": [
    "Se puede apreciar los valores de ROC AUC son muy parecidos a los obtenidos utilizando GINI como criterio, sin embargo, es apreciale como a pesar que los valores de entrenamiento son semejantes a los obtenidos utilizando GINI para precision, el modelo se comporta considerablemente inferior para el set de validacion. A continuacion se entrenaran dos arboles utilizando ambos criterios pero esta vez, con una altura de 6:"
   ]
  },
  {
   "cell_type": "code",
   "execution_count": 18,
   "metadata": {},
   "outputs": [
    {
     "data": {
      "text/plain": [
       "DecisionTreeClassifier(class_weight=None, criterion='entropy', max_depth=6,\n",
       "            max_features=None, max_leaf_nodes=None,\n",
       "            min_impurity_decrease=0.0, min_impurity_split=None,\n",
       "            min_samples_leaf=1, min_samples_split=2,\n",
       "            min_weight_fraction_leaf=0.0, presort=False, random_state=None,\n",
       "            splitter='best')"
      ]
     },
     "execution_count": 18,
     "metadata": {},
     "output_type": "execute_result"
    }
   ],
   "source": [
    "dtree_6_gn= sk.tree.DecisionTreeClassifier(max_depth = 6)\n",
    "dtree_6_gn.fit(train_X, train_y)\n",
    "dtree_6_ig= sk.tree.DecisionTreeClassifier(criterion = 'entropy',max_depth = 6)\n",
    "dtree_6_ig.fit(train_X, train_y)"
   ]
  },
  {
   "cell_type": "markdown",
   "metadata": {},
   "source": [
    "Se calcularan ahora las metricas de costumbre, iniciando con el arbol creado utilizando GINI:"
   ]
  },
  {
   "cell_type": "code",
   "execution_count": 19,
   "metadata": {},
   "outputs": [
    {
     "name": "stdout",
     "output_type": "stream",
     "text": [
      "[0.62022472 0.60449438 0.58651685 0.60449438 0.61573034]\n",
      "[0.84880496 0.85647815 0.84561051 0.81647149 0.84833236]\n",
      "[0.60714286 0.51785714 0.6036036  0.54054054 0.53153153]\n",
      "[0.82619719 0.79691835 0.80394086 0.71857821 0.7999116 ]\n"
     ]
    }
   ],
   "source": [
    "acc_results_train_6 = model_selection.cross_val_score(dtree_6_gn, train_X, train_y, cv=5, scoring='accuracy')\n",
    "roc_results_train_6 = model_selection.cross_val_score(dtree_6_gn, train_X, train_y, cv=5, scoring='roc_auc')\n",
    "acc_results_val_6 = model_selection.cross_val_score(dtree_6_gn, val_X, val_y, cv=5, scoring='accuracy')\n",
    "roc_results_val_6 = model_selection.cross_val_score(dtree_6_gn, val_X, val_y, cv=5, scoring='roc_auc')\n",
    "print(acc_results_train_6)\n",
    "print(roc_results_train_6)\n",
    "print(acc_results_val_6)\n",
    "print(roc_results_val_6)"
   ]
  },
  {
   "cell_type": "markdown",
   "metadata": {},
   "source": [
    "Es apreciable la mejora en el desempeño para todas las metricas estudiadas, por lo que es concluible que un arbol de profundidad 6 se ajusta mejor al dataset en cuestion. Ahora se calcularan las mismas metricas para el arbol entrenado a partir de information gane:"
   ]
  },
  {
   "cell_type": "code",
   "execution_count": 20,
   "metadata": {},
   "outputs": [
    {
     "name": "stdout",
     "output_type": "stream",
     "text": [
      "[0.62921348 0.60674157 0.59325843 0.54606742 0.62696629]\n",
      "[0.84355717 0.85736158 0.86084528 0.82203191 0.84459072]\n",
      "[0.61607143 0.53571429 0.59459459 0.54954955 0.58558559]\n",
      "[0.80433407 0.76056655 0.82422578 0.80604738 0.79722902]\n"
     ]
    }
   ],
   "source": [
    "acc_results_train_6_ig = model_selection.cross_val_score(dtree_6_ig, train_X, train_y, cv=5, scoring='accuracy')\n",
    "roc_results_train_6_ig = model_selection.cross_val_score(dtree_6_ig, train_X, train_y, cv=5, scoring='roc_auc')\n",
    "acc_results_val_6_ig = model_selection.cross_val_score(dtree_6_ig, val_X, val_y, cv=5, scoring='accuracy')\n",
    "roc_results_val_6_ig = model_selection.cross_val_score(dtree_6_ig, val_X, val_y, cv=5, scoring='roc_auc')\n",
    "print(acc_results_train_6_ig)\n",
    "print(roc_results_train_6_ig)\n",
    "print(acc_results_val_6_ig)\n",
    "print(roc_results_val_6_ig)"
   ]
  },
  {
   "cell_type": "markdown",
   "metadata": {},
   "source": [
    "Se puede evidenciar como las metricas son bastante similares a las observadas con la utilizacion de GINI, sin embargo, aunque algunas tuvieron menor desempeño, puede decirse que hubo una leve mejoria. Ahora se entrenara un arbol sin ninguna especificacion de altura maxima para ambos criterios:"
   ]
  },
  {
   "cell_type": "code",
   "execution_count": 21,
   "metadata": {},
   "outputs": [
    {
     "data": {
      "text/plain": [
       "DecisionTreeClassifier(class_weight=None, criterion='entropy', max_depth=None,\n",
       "            max_features=None, max_leaf_nodes=None,\n",
       "            min_impurity_decrease=0.0, min_impurity_split=None,\n",
       "            min_samples_leaf=1, min_samples_split=2,\n",
       "            min_weight_fraction_leaf=0.0, presort=False, random_state=None,\n",
       "            splitter='best')"
      ]
     },
     "execution_count": 21,
     "metadata": {},
     "output_type": "execute_result"
    }
   ],
   "source": [
    "dtree_max_gn= sk.tree.DecisionTreeClassifier()\n",
    "dtree_max_gn.fit(train_X, train_y)\n",
    "dtree_max_ig= sk.tree.DecisionTreeClassifier(criterion = 'entropy')\n",
    "dtree_max_ig.fit(train_X, train_y)"
   ]
  },
  {
   "cell_type": "markdown",
   "metadata": {},
   "source": [
    "De la misma manera que para el arbol anterior, se calcularan las metricas de costumbre utilizando GINI:"
   ]
  },
  {
   "cell_type": "code",
   "execution_count": 22,
   "metadata": {},
   "outputs": [
    {
     "name": "stdout",
     "output_type": "stream",
     "text": [
      "[0.65168539 0.67865169 0.6494382  0.6        0.67640449]\n",
      "[0.67810695 0.68818144 0.69606793 0.67407633 0.68912372]\n",
      "[0.60714286 0.59821429 0.7027027  0.54054054 0.61261261]\n",
      "[0.64627389 0.64144265 0.71024913 0.66458682 0.69487829]\n"
     ]
    }
   ],
   "source": [
    "acc_results_train_max = model_selection.cross_val_score(dtree_max_gn, train_X, train_y, cv=5, scoring='accuracy')\n",
    "roc_results_train_max = model_selection.cross_val_score(dtree_max_gn, train_X, train_y, cv=5, scoring='roc_auc')\n",
    "acc_results_val_max = model_selection.cross_val_score(dtree_max_gn, val_X, val_y, cv=5, scoring='accuracy')\n",
    "roc_results_val_max = model_selection.cross_val_score(dtree_max_gn, val_X, val_y, cv=5, scoring='roc_auc')\n",
    "print(acc_results_train_max)\n",
    "print(roc_results_train_max)\n",
    "print(acc_results_val_max)\n",
    "print(roc_results_val_max)"
   ]
  },
  {
   "cell_type": "markdown",
   "metadata": {},
   "source": [
    "Es evidente que al no restringir la altura maxima se obtienen mejores resultados para las medidas del precision, tanto para los datos de entrenamiento como para los de validacion, sin embargo, los puntajes de ROC AUC han disminuido hasta un valor semejante al obtenido por el de precision. A continuacion se calculan las metricas basadas en information gane:"
   ]
  },
  {
   "cell_type": "code",
   "execution_count": 23,
   "metadata": {},
   "outputs": [
    {
     "name": "stdout",
     "output_type": "stream",
     "text": [
      "[0.66741573 0.65617978 0.63595506 0.60674157 0.65842697]\n",
      "[0.69390526 0.67947859 0.66725384 0.6679473  0.67029515]\n",
      "[0.66071429 0.625      0.71171171 0.6036036  0.62162162]\n",
      "[0.67001188 0.6536349  0.68888921 0.68194748 0.71680159]\n"
     ]
    }
   ],
   "source": [
    "acc_results_train_max_ig = model_selection.cross_val_score(dtree_max_ig, train_X, train_y, cv=5, scoring='accuracy')\n",
    "roc_results_train_max_ig = model_selection.cross_val_score(dtree_max_ig, train_X, train_y, cv=5, scoring='roc_auc')\n",
    "acc_results_val_max_ig = model_selection.cross_val_score(dtree_max_ig, val_X, val_y, cv=5, scoring='accuracy')\n",
    "roc_results_val_max_ig = model_selection.cross_val_score(dtree_max_ig, val_X, val_y, cv=5, scoring='roc_auc')\n",
    "print(acc_results_train_max_ig)\n",
    "print(roc_results_train_max_ig)\n",
    "print(acc_results_val_max_ig)\n",
    "print(roc_results_val_max_ig)"
   ]
  },
  {
   "cell_type": "markdown",
   "metadata": {},
   "source": [
    "Es apreciable que los valores son bastantes semejantes a los obtenidos mediante la utilizacion de GINI, sin embargo, es considerable la mejora obtenida por este criterio en los casos de validacion, pues casi todas los valores son superiores a los observados utilizando GINI."
   ]
  },
  {
   "cell_type": "markdown",
   "metadata": {},
   "source": [
    "## 2.3) Tratamiento de datos faltantes"
   ]
  },
  {
   "cell_type": "code",
   "execution_count": 64,
   "metadata": {},
   "outputs": [
    {
     "name": "stdout",
     "output_type": "stream",
     "text": [
      "0\n",
      "1\n",
      "2\n",
      "3\n",
      "4\n",
      "5\n",
      "6\n",
      "7\n",
      "8\n",
      "9\n"
     ]
    }
   ],
   "source": [
    "#data.isna().sum().sum()\n",
    "#int(data.size*0.05)\n",
    "for i in range(0,10,1):\n",
    "    print(i)"
   ]
  },
  {
   "cell_type": "code",
   "execution_count": 45,
   "metadata": {},
   "outputs": [
    {
     "data": {
      "text/plain": [
       "True"
      ]
     },
     "execution_count": 45,
     "metadata": {},
     "output_type": "execute_result"
    }
   ],
   "source": [
    "#random.sample(range(0, 100), 3)\n",
    "\n",
    "\n",
    "#train_X.shape[1]  # gives number of row count\n",
    "#count_col = df.shape[1]  # gives number of col count\n",
    "def outliers(data, por, rell):\n",
    "    n = int(data.size*(por/100))\n",
    "    for i in range()\n",
    "    col = random.sample(range(0, data.shape[0]), 3)\n",
    "    row =  random.sample(range(0, data.shape[1]), 3)\n",
    "#pd.isnull(np.nan)"
   ]
  },
  {
   "cell_type": "code",
   "execution_count": 24,
   "metadata": {},
   "outputs": [],
   "source": [
    "Importance = pd.DataFrame({'Variable': X.columns,\n",
    "    'Valor':dtree.feature_importances_ })\n",
    "Importance=Importance.sort_values('Valor',ascending=True)\n"
   ]
  },
  {
   "cell_type": "code",
   "execution_count": 110,
   "metadata": {},
   "outputs": [
    {
     "data": {
      "text/plain": [
       "Text(0.5, 1.0, 'Variables mas importantes')"
      ]
     },
     "execution_count": 110,
     "metadata": {},
     "output_type": "execute_result"
    },
    {
     "data": {
      "image/png": "[encoded data removed]",
      "text/plain": [
       "<Figure size 432x288 with 1 Axes>"
      ]
     },
     "metadata": {
      "needs_background": "light"
     },
     "output_type": "display_data"
    }
   ],
   "source": [
    "#ANALISIS DE IMPORTANCIA\n",
    "\n",
    "import matplotlib.pyplot as plt\n",
    "#Importance['Variable']\n",
    "y_pos = np.arange(len(Importance['Valor']))\n",
    "\n",
    "plt.barh(y_pos,Importance['Valor'],align='center')\n",
    "plt.yticks(y_pos, Importance['Variable'])\n",
    "plt.xlabel('Importancia Relativa')\n",
    "plt.figtext(-0.5,0,50)\n",
    "plt.title('Variables mas importantes')"
   ]
  },
  {
   "cell_type": "code",
   "execution_count": 152,
   "metadata": {},
   "outputs": [
    {
     "data": {
      "text/plain": [
       "<bound method BaseDecisionTree.decision_path of DecisionTreeClassifier(class_weight=None, criterion='gini', max_depth=None,\n",
       "            max_features=None, max_leaf_nodes=None,\n",
       "            min_impurity_decrease=0.0, min_impurity_split=None,\n",
       "            min_samples_leaf=1, min_samples_split=2,\n",
       "            min_weight_fraction_leaf=0.0, presort=False, random_state=None,\n",
       "            splitter='best')>"
      ]
     },
     "execution_count": 152,
     "metadata": {},
     "output_type": "execute_result"
    }
   ],
   "source": [
    "cv_results.mean()\n",
    "dtree.decision_path\n"
   ]
  },
  {
   "cell_type": "code",
   "execution_count": 5,
   "metadata": {},
   "outputs": [
    {
     "ename": "NameError",
     "evalue": "name 'dtree' is not defined",
     "output_type": "error",
     "traceback": [
      "\u001b[0;31m---------------------------------------------------------------------------\u001b[0m",
      "\u001b[0;31mNameError\u001b[0m                                 Traceback (most recent call last)",
      "\u001b[0;32m<ipython-input-5-b2ba870aab2d>\u001b[0m in \u001b[0;36m<module>\u001b[0;34m\u001b[0m\n\u001b[0;32m----> 1\u001b[0;31m \u001b[0mpredictions\u001b[0m\u001b[0;34m=\u001b[0m\u001b[0mdtree\u001b[0m\u001b[0;34m.\u001b[0m\u001b[0mpredict\u001b[0m\u001b[0;34m(\u001b[0m\u001b[0mtest_X\u001b[0m\u001b[0;34m)\u001b[0m\u001b[0;34m\u001b[0m\u001b[0;34m\u001b[0m\u001b[0m\n\u001b[0m\u001b[1;32m      2\u001b[0m \u001b[0macc\u001b[0m\u001b[0;34m=\u001b[0m\u001b[0msk\u001b[0m\u001b[0;34m.\u001b[0m\u001b[0mmetrics\u001b[0m\u001b[0;34m.\u001b[0m\u001b[0maccuracy_score\u001b[0m\u001b[0;34m(\u001b[0m\u001b[0mtest_y\u001b[0m\u001b[0;34m,\u001b[0m \u001b[0mpredictions\u001b[0m\u001b[0;34m)\u001b[0m\u001b[0;34m\u001b[0m\u001b[0;34m\u001b[0m\u001b[0m\n\u001b[1;32m      3\u001b[0m Predi = pd.DataFrame({'Class':test_y,\n\u001b[1;32m      4\u001b[0m     'Predictions':predictions})\n\u001b[1;32m      5\u001b[0m \u001b[0mconfusion_matrix\u001b[0m\u001b[0;34m(\u001b[0m\u001b[0mtest_y\u001b[0m\u001b[0;34m,\u001b[0m \u001b[0mpredictions\u001b[0m\u001b[0;34m)\u001b[0m\u001b[0;34m\u001b[0m\u001b[0;34m\u001b[0m\u001b[0m\n",
      "\u001b[0;31mNameError\u001b[0m: name 'dtree' is not defined"
     ]
    }
   ],
   "source": [
    "predictions=dtree.predict(test_X)\n",
    "acc=sk.metrics.accuracy_score(test_y, predictions)\n",
    "Predi = pd.DataFrame({'Class':test_y,\n",
    "    'Predictions':predictions})\n",
    "sk.metrics.confusion_matrix(test_y, predictions)\n",
    "#PREDICE BIEN EL 1. El lo predice de una"
   ]
  },
  {
   "cell_type": "code",
   "execution_count": 161,
   "metadata": {},
   "outputs": [
    {
     "name": "stderr",
     "output_type": "stream",
     "text": [
      "C:\\Users\\rmaur\\Anaconda3\\lib\\site-packages\\sklearn\\model_selection\\_split.py:2053: FutureWarning: You should specify a value for 'cv' instead of relying on the default value. The default value will change from 3 to 5 in version 0.22.\n",
      "  warnings.warn(CV_WARNING, FutureWarning)\n"
     ]
    },
    {
     "name": "stdout",
     "output_type": "stream",
     "text": [
      "0.7156411730879816 {'max_depth': 5} DecisionTreeClassifier(class_weight=None, criterion='gini', max_depth=5,\n",
      "            max_features=None, max_leaf_nodes=None,\n",
      "            min_impurity_decrease=0.0, min_impurity_split=None,\n",
      "            min_samples_leaf=1, min_samples_split=2,\n",
      "            min_weight_fraction_leaf=0.0, presort=False, random_state=None,\n",
      "            splitter='best')\n"
     ]
    }
   ],
   "source": [
    "from sklearn.model_selection import GridSearchCV\n",
    "\n",
    "parameters = {'max_depth':range(3,20)}\n",
    "clf = GridSearchCV(DecisionTreeClassifier(), parameters, n_jobs=10)\n",
    "clf.fit(X=X, y=Y)\n",
    "tree_model = clf.best_estimator_\n",
    "\n",
    "print (clf.best_score_, clf.best_params_,clf.best_estimator_)"
   ]
  },
  {
   "cell_type": "code",
   "execution_count": 304,
   "metadata": {},
   "outputs": [
    {
     "data": {
      "text/plain": [
       "DecisionTreeClassifier(class_weight={1: 2, 2: 1, 3: 2, 4: 1, 5: 1, 6: 1},\n",
       "            criterion='entropy', max_depth=7, max_features=None,\n",
       "            max_leaf_nodes=None, min_impurity_decrease=0.0,\n",
       "            min_impurity_split=None, min_samples_leaf=1,\n",
       "            min_samples_split=2, min_weight_fraction_leaf=0.0,\n",
       "            presort=False, random_state=None, splitter='best')"
      ]
     },
     "execution_count": 304,
     "metadata": {},
     "output_type": "execute_result"
    }
   ],
   "source": [
    " adtree=DecisionTreeClassifier(max_depth=7,criterion='entropy',\n",
    "                              class_weight= {1:2,2:1,3:2,4:1,5:1,6:1})\n",
    "#PRUEBO UN MAX DEPTH 5, PERO CON 7 DA1 MEJORpy Y ENTROPIA\n",
    "\n",
    "adtree.fit(train_X, train_y)"
   ]
  },
  {
   "cell_type": "code",
   "execution_count": 313,
   "metadata": {},
   "outputs": [
    {
     "data": {
      "text/plain": [
       "DecisionTreeClassifier(class_weight={1: 4, 2: 2, 3: 4, 4: 2, 5: 3, 6: 1},\n",
       "            criterion='entropy', max_depth=7, max_features=None,\n",
       "            max_leaf_nodes=None, min_impurity_decrease=0.0,\n",
       "            min_impurity_split=None, min_samples_leaf=1,\n",
       "            min_samples_split=2, min_weight_fraction_leaf=0.0,\n",
       "            presort=False, random_state=None, splitter='best')"
      ]
     },
     "execution_count": 313,
     "metadata": {},
     "output_type": "execute_result"
    }
   ],
   "source": [
    " adtree=DecisionTreeClassifier(max_depth=7,criterion='entropy',\n",
    "                              class_weight= {1:4,2:2,3:4,4:2,5:3,6:1})\n",
    "#PRUEBO UN MAX DEPTH 5, PERO CON 7 DA1 MEJORpy Y ENTROPIA\n",
    "\n",
    "adtree.fit(train_X, train_y)"
   ]
  },
  {
   "cell_type": "code",
   "execution_count": 314,
   "metadata": {},
   "outputs": [
    {
     "data": {
      "text/plain": [
       "0.7068965517241379"
      ]
     },
     "execution_count": 314,
     "metadata": {},
     "output_type": "execute_result"
    }
   ],
   "source": [
    "predictions=adtree.predict(test_X)\n",
    "acc=sk.metrics.accuracy_score(test_y, predictions)\n",
    "acc"
   ]
  },
  {
   "cell_type": "code",
   "execution_count": null,
   "metadata": {},
   "outputs": [],
   "source": []
  }
 ],
 "metadata": {
  "kernelspec": {
   "display_name": "Python 3",
   "language": "python",
   "name": "python3"
  },
  "language_info": {
   "codemirror_mode": {
    "name": "ipython",
    "version": 3
   },
   "file_extension": ".py",
   "mimetype": "text/x-python",
   "name": "python",
   "nbconvert_exporter": "python",
   "pygments_lexer": "ipython3",
   "version": "3.7.1"
  }
 },
 "nbformat": 4,
 "nbformat_minor": 2
}
